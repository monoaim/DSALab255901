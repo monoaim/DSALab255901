{
 "cells": [
  {
   "cell_type": "markdown",
   "metadata": {},
   "source": [
    "13016213 Data Structures and Algorithms Laboratory\n",
    "\n",
    "**NOTE** click here to select this cell, press Esc-Enter to enter cell edit mode, press Shift-Enter to put the cell back to display mode.\n",
    "\n",
    "#### Name: Araya Siriadun\n",
    "\n",
    "#### Student ID: 58090046\n",
    "\n",
    "Laboratory 7: Trees\n",
    "===\n",
    "\n",
    "## Overview\n",
    "In this laboratory, we study one of the most important **nonlinear** data structures in computing &mdash; **trees**. Tree structures allow us to implement a large number of algorithms much faster than when using linear data structures such as arrays, stacks, queues, or linked lists.\n",
    "\n",
    "Nonliearity of trees refer to a **hierarchical** relationship between objects, with some objects being \"above\" and some \"below\" others. An example tree representing a portion of a file system is shown in Figure 1.\n",
    "\n",
    "<br />\n",
    "<center>\n",
    "<img src=\"figs/fig1.jpg\" />\n",
    "**Figure 1.** Tree representing a portion of a file system.\n",
    "</center>\n",
    "<br />\n",
    "\n",
    "<hr />\n",
    "## Definitions and Properties\n",
    "\n",
    "A *tree* is an abstract data type that stores elements hierarchically. Formally, we define a <em>**tree $T$**</em> as a set of <em>**nodes**</em> storing elements such that the nodes have a <em>**parent-child**</em> relationship that satisfies the following properties:\n",
    "\n",
    "* If $T$ is nonempty, it has a special node, called the <em>**root**</em> of $T$, that has no parent.\n",
    "* Each node $v$ of $T$ different from the root has a unique <em>**parent**</em> node $w$; every node with parent $w$ is a <em>**child**</em> of $w$.\n",
    "\n",
    "We can also define a tree recursively such that a tree $T$ is either empty or consists of a node $r$, called the root of $T$, and a (possibly empty) set of subtrees whose roots are the children of $r$.\n",
    "\n",
    "If each node in the tree has a maximum of two children, we say that the tree is a **binary tree**.\n",
    "\n",
    "A tree is usually visualized by placing elements inside ovals or rectangles, and connecting parents and children with straight lines (see Figure 1). Contrary to a botanical tree, we typically draw the *root* of the tree as the highest element, with the other elements being connected below. \n",
    "\n",
    "### Node relationships\n",
    "* Two nodes that are children of the same parent are <em>**siblings**</em>. \n",
    "* A node $v$ is <em>**external**</em> if $v$ has no children. A node $v$ is <em>**internal**</em> if it has one or more children. External nodes are also known as <em>**leaves**</em>.\n",
    "* A node $u$ is an <em>**ancestor**</em> of a node $v$ if $u=v$ or $u$ is an ancestor of the parent of $v$. A node $v$ is a <em>**descendant**</em> of a node $u$ if $u$ is an ancestor of $v$. Note that this definition implies that every node is both an ancestor and descendant of itself; if we wish to exclude the node itself, we refer to a *proper ancestor* or *proper descendant*.\n",
    "  \n",
    "* The <em>**subtree**</em> of $T$ rooted at a node $v$ is the tree consisting of all the descendants of $v$ in $T$ (including $v$ itself).\n",
    "\n",
    "### Edges and Paths in Trees\n",
    "* An <em>**edge**</em> of tree $T$ is a pair of nodes $(u,v)$ such that $u$ is the parent of $v$, or vice versa.\n",
    "* A <em>**path**</em> of tree $T$ is a sequence of nodes such that any two consecutive nodes in the sequence form an edge. For example, the tree in Figure 1 contains the path $(cs252/, projects/, demos/, market)$.\n",
    "\n",
    "### Depth and Height\n",
    "* The <em>**depth**</em> of $p$ can be recursively defined as follows:\n",
    "  * If p is the root, then the depth of p is $0$.\n",
    "  * Otherwise, the depth of $p$ is one plus the depth of the parent of $p$.\n",
    "\n",
    "* The <em>**height of a node in a tree $T$**</em> is defined recursively as follows:\n",
    "  * If $p$ is a leaf, then the height of $p$ is $0$.\n",
    "  * Otherwise, the height of $p$ is one more than the maximum of the heights of $p$'s children.\n",
    "  \n",
    "* The <em>**height of a nonempty tree $T$**</em> is the height of the root of $T$."
   ]
  },
  {
   "cell_type": "markdown",
   "metadata": {
    "collapsed": true
   },
   "source": [
    "### Question 1 [4 marks].\n",
    "The following questions refer to the tree of Figure 1.\n",
    "\n",
    "1. Which node is the root?\n",
    "2. What are the internal nodes?\n",
    "3. How many descendants does node $cs016/$ have?\n",
    "4. How many ancestors does node $cs016/$ have?\n",
    "5. What are the siblings of node $homeworks/$?\n",
    "6. Which nodes are in the subtree rooted at node $projects/$?\n",
    "7. What is the depth of node $papers/$?\n",
    "8. What is the height of the tree?\n"
   ]
  },
  {
   "cell_type": "code",
   "execution_count": 1,
   "metadata": {
    "collapsed": true
   },
   "outputs": [],
   "source": [
    "### TODO.Q1\n",
    "'''\n",
    "1. /user/rt/courses\n",
    "2. /user/rt/courses, cs016/, cs252/, homeworks/, programs/, projects/, papers/, demos/\n",
    "3. 10\n",
    "4. 2\n",
    "5. grades, programs/\n",
    "6. projects/, papers/, buylow, sellhigh, demos/, market\n",
    "7. 3\n",
    "8. 4\n",
    "'''"
   ]
  },
  {
   "cell_type": "markdown",
   "metadata": {},
   "source": [
    "<hr />\n",
    "## Binary Tree\n",
    "There are many different types of trees in computing. One of the most commonly used trees is the binary tree. \n",
    "\n",
    "A ***binary tree*** is a tree in which each node can have at most two children. One child is identified as the ***left child*** and the other as the ***right child***. The subtree rooted at a left or right child of an internal node $v$ is called a ***left subtree*** or ***right subtree***, respectively, of $v$.\n",
    "\n",
    "As an example, Figure 2 shows a binary tree representing an arithmetic expression. The leaves of the tree in Figure 2 are associated with variables or constants; and the internal nodesare associated with the arithmetic operators: $+, -, x, /$. \n",
    "\n",
    "<br />\n",
    "<center>\n",
    "<img src=\"figs/fig2.jpg\" />\n",
    "<br />\n",
    "**Figure 2.** A binary tree representing an arithmetic expression. This tree represents the expression $((((3 + 1) \\times 3)/((9-5)+2))-((3\\times(7-4))+6))$.  \n",
    "</center>\n",
    "<br />\n",
    "\n",
    "#### A Recursive Binary Tree Definition\n",
    "We can also define a binary tree recursively such that a binary tree is either empty or consists of:\n",
    "* A node $r$, called the root of $T$, that stores an element\n",
    "* A binary tree (possibly empty), called the left subtree of $T$\n",
    "* A binary tree (possibly empty), called the right subtree of $T$\n",
    "\n"
   ]
  },
  {
   "cell_type": "markdown",
   "metadata": {},
   "source": [
    "### Representation of the Binary Tree\n",
    "The concrete representation that is most often used in programs that manipulate binary trees is a node structure with two links: a left link and a right link (see Figure 3).\n",
    "\n",
    "<br />\n",
    "<center>\n",
    "<img src=\"figs/fig3.png\" />\n",
    "<br />\n",
    "**Figure 3.** The standard representation of a binary tree.  \n",
    "</center>\n",
    "<br />\n",
    "\n",
    "A linked representation of a binary tree can be defined as a Python class as follows."
   ]
  },
  {
   "cell_type": "code",
   "execution_count": 1,
   "metadata": {
    "collapsed": true
   },
   "outputs": [],
   "source": [
    "class BinaryTree:\n",
    "    \"\"\"\n",
    "    Binary Tree ADT based on the recursive binary tree definition and the linked structure.     \n",
    "    \n",
    "    \"\"\"\n",
    "    def __init__(self, rootElement):\n",
    "        \"\"\"Create and initialize a binary tree with element object.\"\"\"        \n",
    "        self._rootElement = rootElement\n",
    "        self._left = None   \n",
    "        self._right = None\n",
    "            \n",
    "    def getRootVal(self):\n",
    "        \"\"\"Return the root element.\"\"\"\n",
    "        return self._rootElement\n",
    "    \n",
    "    def setRootVal(self, e):\n",
    "        \"\"\"Set the value of the root element to e\"\"\"\n",
    "        self._rootElement = e\n",
    "\n",
    "    def right(self):\n",
    "        \"\"\"Return the right child of the tree\"\"\"\n",
    "        return self._right\n",
    "    \n",
    "    def left(self):\n",
    "        \"\"\"Return the left child of the tree\"\"\"\n",
    "        return self._left\n",
    "    \n",
    "    def insertLeft(self, e):\n",
    "        \"\"\"\n",
    "        Create a new left child, storing element e.\n",
    "        \n",
    "        Return the new node\n",
    "        \"\"\"\n",
    "        if self._left == None:\n",
    "            self._left = BinaryTree(e)            \n",
    "        else:\n",
    "            t = BinaryTree(e)\n",
    "            t._left = self._left\n",
    "            self._left = t\n",
    "            \n",
    "        return self._left\n",
    "    \n",
    "    def insertRight(self, e):\n",
    "        \"\"\"\n",
    "        Create a new right child, storing element e.\n",
    "        \n",
    "        Return the new node        \n",
    "        \"\"\"\n",
    "        if self._right == None:\n",
    "            self._right = BinaryTree(e)\n",
    "        else:\n",
    "            t = BinaryTree(e)\n",
    "            t._right = self._right\n",
    "            self._right = t\n",
    "        \n",
    "        return self._right"
   ]
  },
  {
   "cell_type": "code",
   "execution_count": 2,
   "metadata": {
    "collapsed": false
   },
   "outputs": [
    {
     "name": "stdout",
     "output_type": "stream",
     "text": [
      "a\n",
      "b\n",
      "d\n",
      "e\n",
      "c\n",
      "f\n"
     ]
    }
   ],
   "source": [
    "### Testing our BinaryTree class\n",
    "\n",
    "# Construct the binary tree in Figure 3.\n",
    "\n",
    "alphabetTree = BinaryTree('a')\n",
    "l = alphabetTree.insertLeft('b')\n",
    "l.insertLeft('d')\n",
    "l.insertRight('e')\n",
    "\n",
    "r = alphabetTree.insertRight('c')\n",
    "r.insertLeft('f')\n",
    "\n",
    "# recursively walk the tree and print element values\n",
    "def traverse_alphabetTree(tree):\n",
    "    if tree is not None:\n",
    "        print(tree.getRootVal())\n",
    "        traverse_alphabetTree(tree.left())\n",
    "        traverse_alphabetTree(tree.right())\n",
    "\n",
    "traverse_alphabetTree(alphabetTree)"
   ]
  },
  {
   "cell_type": "markdown",
   "metadata": {},
   "source": [
    "### Question 2 [2 marks].\n",
    "\n",
    "Write a function $buildTree$ that returns an expression tree in Figure 2."
   ]
  },
  {
   "cell_type": "code",
   "execution_count": 3,
   "metadata": {
    "collapsed": false
   },
   "outputs": [],
   "source": [
    "### TODO.Q2\n",
    "def buildTree():\n",
    "    t = BinaryTree('-')\n",
    "    l = t.insertLeft('/')\n",
    "    ll = l.insertLeft('*')\n",
    "    ll.insertLeft('3')\n",
    "    ll.insertRight('3')\n",
    "    lll = ll.insertLeft('+')\n",
    "    lll.insertRight('1')\n",
    "    lr = l.insertRight('+')\n",
    "    lr.insertRight('2')\n",
    "    lrl = lr.insertLeft('-')\n",
    "    lrl.insertLeft('9')\n",
    "    lrl.insertRight('5')\n",
    "    r = t.insertRight('+')\n",
    "    rl = r.insertLeft('*')\n",
    "    r.insertRight('6')\n",
    "    rl.insertLeft('3')\n",
    "    rr = rl.insertRight('-')\n",
    "    rr.insertLeft('7')\n",
    "    rr.insertRight('4')\n",
    "    return t"
   ]
  },
  {
   "cell_type": "markdown",
   "metadata": {},
   "source": [
    "### Question 3 [1 marks].\n",
    "Write a function $printTree(t)$ that recursively walk tree $t$ and print all element values. \n",
    "Test your $printTree$ function with the expression tree constructed in the previous question."
   ]
  },
  {
   "cell_type": "code",
   "execution_count": 4,
   "metadata": {
    "collapsed": false
   },
   "outputs": [
    {
     "name": "stdout",
     "output_type": "stream",
     "text": [
      "3 + 1 * 3 / 9 - 5 + 2 - 3 * 7 - 4 + 6 "
     ]
    }
   ],
   "source": [
    "### TODO.Q3\n",
    "def printTree(t):\n",
    "    if t is not None:\n",
    "        printTree( t.left() )\n",
    "        print( t.getRootVal(), end=\" \" )\n",
    "        printTree( t.right() )\n",
    "        \n",
    "printTree(buildTree())"
   ]
  },
  {
   "cell_type": "markdown",
   "metadata": {},
   "source": [
    "<hr />\n",
    "## Tree Traversals\n",
    "A traversal operation iterates through a collection one item at a time, in order to access or visit each item. The tree traversal operation is one of the most common usage patterns for trees. There are four commonly used patterns to visit all the nodes in a tree:\n",
    "\n",
    "* ***Preorder***<br />\n",
    "  In a preorder traversal, we visit the root node first, then recursively do a preorder traversal of the left subtree, followed by a recursive preorder traversal of the right subtree. (see Figure 4)\n",
    "  \n",
    "* ***Inorder***<br />\n",
    "  In an inorder traversal, we recursively do an inorder traversal on the left subtree, visit the root node, and finally do a recursive inorder traversal of the right subtree. (see Figure 5)\n",
    " \n",
    "* ***Postorder***<br />\n",
    "  In a postorder traversal, we recursively do a postorder traversal of the left subtree and the right subtree followed by a visit to the root node. (see Figure 6)\n",
    "\n",
    "* ***Breadth-first traversal***<br />\n",
    "  The preorder, inorder, and postorder traversals are all examples of a depth-first traversal. That is, the nodes are traversed deeper in the tree before returning to higher-level nodes. A breadth-first traversal is another type of tree traversal. In a breadth-first traversal, the nodes are visited by level, from left to right. (see Figure 7)\n",
    "\n",
    "<br />\n",
    "<center>\n",
    "<img src=\"figs/preorder.png\" />\n",
    "<br />\n",
    "**Figure 4.** The logical ordering of the nodes with a preorder traversal.  \n",
    "</center>\n",
    "<br />\n",
    "\n",
    "<br />\n",
    "<center>\n",
    "<img src=\"figs/inorder.png\" />\n",
    "<br />\n",
    "**Figure 5.** The logical ordering of the nodes with a inorder traversal.  \n",
    "</center>\n",
    "<br />\n",
    "\n",
    "<br />\n",
    "<center>\n",
    "<img src=\"figs/postorder.png\" />\n",
    "<br />\n",
    "**Figure 6.** The logical ordering of the nodes with a postorder traversal.  \n",
    "</center>\n",
    "<br />\n",
    "\n",
    "<br />\n",
    "<center>\n",
    "<img src=\"figs/breadthfirst.png\" />\n",
    "<br />\n",
    "**Figure 7.** The logical ordering of the nodes with a breadth-first traversal.  \n",
    "</center>\n",
    "<br />\n",
    "\n",
    "\n",
    "\n",
    "As an example, a recursive function for a preorder traversal of a binary tree is as shown below."
   ]
  },
  {
   "cell_type": "code",
   "execution_count": 5,
   "metadata": {
    "collapsed": false
   },
   "outputs": [
    {
     "name": "stdout",
     "output_type": "stream",
     "text": [
      "A B D E H C F G I J "
     ]
    }
   ],
   "source": [
    "def preorderTraversal( binaryTree ):\n",
    "    if binaryTree is not None:\n",
    "        print( binaryTree.getRootVal(), end=\" \" )\n",
    "        preorderTraversal( binaryTree.left() )\n",
    "        preorderTraversal( binaryTree.right() )    \n",
    "        \n",
    "### Test preorderTraversal\n",
    "def buildExampleTree():\n",
    "    \"\"\"Construct the binary tree in Figure 4, 5, 6.\"\"\"\n",
    "    bTree = BinaryTree('A')\n",
    "    l = bTree.insertLeft('B')\n",
    "    l.insertLeft('D')\n",
    "    l.insertRight('E').insertLeft('H')\n",
    "    r = bTree.insertRight('C')\n",
    "    r.insertLeft('F')\n",
    "    r = r.insertRight('G')\n",
    "    r.insertLeft('I')\n",
    "    r.insertRight('J')\n",
    "    return bTree\n",
    "\n",
    "# preorder traversal of the binary tree in Figure 4 \n",
    "# the logical order the nodes would be visited during the traversal is\n",
    "# A, B, D, E, H, C, F, G, I, J\n",
    "preorderTraversal(buildExampleTree())\n"
   ]
  },
  {
   "cell_type": "markdown",
   "metadata": {},
   "source": [
    "### Question 4 [2 marks].\n",
    "Write a recursive function $inorderTraversal$ that prints the logical order of a tree with an inorder traversal. Test your function using the tree built by the function $buildExampleTree()$."
   ]
  },
  {
   "cell_type": "code",
   "execution_count": 6,
   "metadata": {
    "collapsed": false
   },
   "outputs": [
    {
     "name": "stdout",
     "output_type": "stream",
     "text": [
      "D B H E A F C I G J "
     ]
    }
   ],
   "source": [
    "### TODO.Q4\n",
    "def inorderTraversal( binaryTree ):\n",
    "    if binaryTree is not None:\n",
    "        inorderTraversal( binaryTree.left() )\n",
    "        print( binaryTree.getRootVal(), end=\" \" )\n",
    "        inorderTraversal( binaryTree.right() )   \n",
    "        \n",
    "inorderTraversal(buildExampleTree())"
   ]
  },
  {
   "cell_type": "markdown",
   "metadata": {},
   "source": [
    "### Question 5 [2 marks].\n",
    "Write a recursive function $postorderTraversal$ that prints the logical order of a tree with a postorder traversal. Test your function using the tree built by the function $buildExampleTree()$."
   ]
  },
  {
   "cell_type": "code",
   "execution_count": 7,
   "metadata": {
    "collapsed": false
   },
   "outputs": [
    {
     "name": "stdout",
     "output_type": "stream",
     "text": [
      "D H E B F I J G C A "
     ]
    }
   ],
   "source": [
    "### TODO.Q5\n",
    "def postorderTraversal( binaryTree ):\n",
    "    if binaryTree is not None:\n",
    "        postorderTraversal( binaryTree.left() )\n",
    "        postorderTraversal( binaryTree.right() )   \n",
    "        print( binaryTree.getRootVal(), end=\" \" )\n",
    "        \n",
    "postorderTraversal(buildExampleTree())"
   ]
  },
  {
   "cell_type": "markdown",
   "metadata": {},
   "source": [
    "### Question 6 [4 marks].\n",
    "Write a recursive function $breadthFirstTraversal$ that prints the logical order of a tree with a breadth-first traversal. Test your function using the tree built by the function $buildExampleTree()$. "
   ]
  },
  {
   "cell_type": "code",
   "execution_count": 8,
   "metadata": {
    "collapsed": false
   },
   "outputs": [
    {
     "name": "stdout",
     "output_type": "stream",
     "text": [
      "A B C D E F G H I J "
     ]
    }
   ],
   "source": [
    "### TODO.Q6\n",
    "def breadthFirstTraversal( binaryTree, more = None):\n",
    "    if binaryTree:\n",
    "        if more is None:\n",
    "            more = []\n",
    "        more += [binaryTree.left(), binaryTree.right()]\n",
    "        print( binaryTree.getRootVal(), end=\" \" )\n",
    "    if more:    \n",
    "        breadthFirstTraversal( more[0], more[1:])\n",
    "    \n",
    "breadthFirstTraversal(buildExampleTree())"
   ]
  },
  {
   "cell_type": "markdown",
   "metadata": {},
   "source": [
    "### Question 7 [1 marks].\n",
    "Given a binary tree of $n$ nodes, what is the worst case running time of the tree traversal algorithms? (assume that the visit operation only requires constant time.)\n"
   ]
  },
  {
   "cell_type": "code",
   "execution_count": 6,
   "metadata": {
    "collapsed": true
   },
   "outputs": [],
   "source": [
    "### TODO.Q7\n",
    "# O(n)"
   ]
  },
  {
   "cell_type": "markdown",
   "metadata": {},
   "source": [
    "<hr />\n",
    "## Expression Tree\n",
    "Arithmetic expressions can be represented using an *expression tree* (see Figure 2). An expression tree is a binary tree in which the operators are stored in the interior nodes and the operands (the variables or constant values) are stored in the leaves. We can use an expression tree to evaluate the arithmetic expression or for converting an infix expression to either prefix or postfix notation. We define the $ExpressionTree$ ADT as follows.\n",
    "\n",
    "\n"
   ]
  },
  {
   "cell_type": "markdown",
   "metadata": {},
   "source": [
    "### ExpressionTree ADT\n",
    "\n",
    "An expression tree is a binary tree representation of an arithmetic expression that consists of arithmetic operators (such as $+, -, \\times, /$) and operands comprised of integer values or a single-lowercase-letter variables within a fully parenthesized expression.\n",
    "\n",
    "* **ExpressionTree( expStr )**\n",
    "  Builds an expression tree for the expression given in $expStr$. \n",
    "* **evaluate( varDict )**\n",
    "  Evaluates the expression tree and returns the numeric result. An exception is raised if there is a division by zero.\n",
    "* **toString()**\n",
    "  Constructs and returns a string representation of the expression.\n",
    "  \n",
    "### Implementation of ExpressionTree ADT\n",
    "The ExpressionTree ADT can be implemented using the Stack and BinaryTree ADTs."
   ]
  },
  {
   "cell_type": "code",
   "execution_count": 9,
   "metadata": {
    "collapsed": false
   },
   "outputs": [],
   "source": [
    "import string\n",
    "import operator\n",
    "import re   # re.findall()\n",
    "\n",
    "class ExpressionTree:\n",
    "    '''Implementation of the ExpressionTree ADT\n",
    "    \n",
    "    Here, we assume that each token (operators or operands) is separated by a space.\n",
    "    '''\n",
    "    def __init__(self, expStr):\n",
    "        '''Builds an expression tree for the expression given in expStr'''  \n",
    "        ### TODO.P7\n",
    "        expStr = ' '.join(re.findall(r'\\d+|.', expStr))   # insert a space between every token\n",
    "        self._expTree = self._buildExpTree(expStr)\n",
    "        \n",
    "    def _buildExpTree(self, expStr):\n",
    "        expList = expStr.split()   # each token is separated by a space\n",
    "        pStack = Stack()\n",
    "        eTree = BinaryTree('')\n",
    "        pStack.push(eTree)\n",
    "        currentTree = eTree\n",
    "        for i in expList:\n",
    "            if i == '(':\n",
    "                currentTree.insertLeft('')\n",
    "                pStack.push(currentTree)\n",
    "                currentTree = currentTree.left()\n",
    "            elif i not in ['+', '-', '*', '/', ')']:\n",
    "                if i in string.ascii_lowercase:\n",
    "                    currentTree.setRootVal(i)\n",
    "                else:\n",
    "                    currentTree.setRootVal(int(i))\n",
    "                parent = pStack.pop()\n",
    "                currentTree = parent\n",
    "            elif i in ['+', '-', '*', '/']:\n",
    "                currentTree.setRootVal(i)\n",
    "                currentTree.insertRight('')\n",
    "                pStack.push(currentTree)\n",
    "                currentTree = currentTree.right()\n",
    "            elif i == ')':\n",
    "                currentTree = pStack.pop()\n",
    "            else:\n",
    "                raise ValueError\n",
    "        return eTree        \n",
    "                        \n",
    "    def evaluate(self, varDict):\n",
    "        '''Evaluates the expression tree and returns the numeric result.'''\n",
    "        return self._evaluate(self._expTree, varDict)\n",
    "    \n",
    "    def _evaluate(self, expTree, varDict):\n",
    "        opers = {'+':operator.add, '-':operator.sub, '*':operator.mul, '/':operator.truediv}\n",
    "        \n",
    "        leftOperand = expTree.left()\n",
    "        rightOperand = expTree.right()\n",
    "        \n",
    "        if leftOperand and rightOperand:\n",
    "            fn = opers[expTree.getRootVal()]\n",
    "            return fn(self._evaluate(leftOperand, varDict), \n",
    "                      self._evaluate(rightOperand, varDict))\n",
    "        else:\n",
    "            operand = expTree.getRootVal()\n",
    "            if type(operand) == str and operand in string.ascii_lowercase:  \n",
    "                # a single-character variable           \n",
    "                return varDict[operand]\n",
    "            else: \n",
    "                # an integer \n",
    "                return operand\n",
    "                \n",
    "    def __str__(self):\n",
    "        '''Constructs and returns a string representation of the expression.'''\n",
    "        ### TODO.Q8       \n",
    "        return ' '.join(self._parenthesize(self._expTree, []))\n",
    "\n",
    "    def _parenthesize(self, t, result):\n",
    "        if t.left() and t.right():\n",
    "            result += ['(']                                 \n",
    "            self._parenthesize(t.left(), result)     \n",
    "            result += [str(t.getRootVal())]                  \n",
    "            self._parenthesize(t.right(), result)  \n",
    "            result += [')']      \n",
    "        else:\n",
    "            result += [str(t.getRootVal())]\n",
    "        return result\n",
    "\n",
    "class Stack:\n",
    "    def __init__(self):\n",
    "        self._theItems = list()\n",
    "    def isEmpty(self):\n",
    "        return len(self) == 0\n",
    "    def __len__(self):\n",
    "        return len( self._theItems )\n",
    "    def peek(self):\n",
    "        assert not self.isEmpty(), \"Cannot peek at an empty stack\"\n",
    "        return self._theItems[-1]\n",
    "    def pop(self):\n",
    "        assert not self.isEmpty(), \"Cannot pop from an empty stack\"\n",
    "        return self._theItems.pop()\n",
    "    def push(self, item):\n",
    "        self._theItems.append( item )"
   ]
  },
  {
   "cell_type": "code",
   "execution_count": 13,
   "metadata": {
    "collapsed": false
   },
   "outputs": [
    {
     "name": "stdout",
     "output_type": "stream",
     "text": [
      "( a / ( b - 3 ) ) = 0.50\n",
      "( ( 10 + 5 ) * 3 ) = 45.00\n",
      "( a / ( b - 3 ) ) = 0.50\n",
      "( ( ( ( 3 + 1 ) * 3 ) / ( ( 9 - 5 ) + 2 ) ) - ( ( 3 * ( 7 - 4 ) ) + 6 ) ) = -13.00\n"
     ]
    }
   ],
   "source": [
    "vars = {'a': 9, 'b': 21}\n",
    "\n",
    "ep1 = ExpressionTree(\"( a  / ( b - 3 ) )\")\n",
    "print(\"%s = %.2f\" % (ep1, ep1.evaluate(vars)))\n",
    "\n",
    "ep2 = ExpressionTree(\"( ( 10 + 5 ) * 3 )\")\n",
    "print(\"%s = %.2f\" % (ep2, ep2.evaluate(vars)))\n",
    "\n",
    "ep3 = ExpressionTree(\"(  a  / ( b - 3 ) )\")\n",
    "print(\"%s = %.2f\" % (ep3, ep3.evaluate(vars)))\n",
    "\n",
    "ep4 = ExpressionTree(\"( ( ( ( 3 + 1 ) * 3 ) / ( ( 9 - 5 ) + 2 ) ) - ( ( 3 * ( 7 - 4 ) ) + 6 ) )\")\n",
    "print(\"%s = %.2f\" % (ep4, ep4.evaluate(vars)))"
   ]
  },
  {
   "cell_type": "markdown",
   "metadata": {
    "collapsed": true
   },
   "source": [
    "### Question 8 [2 marks].\n",
    "Complete the $__str__$ method of the ExpressionTree class."
   ]
  },
  {
   "cell_type": "code",
   "execution_count": 8,
   "metadata": {
    "collapsed": false
   },
   "outputs": [],
   "source": [
    "### TODO.Q8\n"
   ]
  },
  {
   "cell_type": "markdown",
   "metadata": {},
   "source": [
    "<hr />\n",
    "## Programming Quiz 7 [5 marks]\n",
    "Extend the ExpreesionTree class to handle arithmetic expressions that do not have spaces between every character."
   ]
  },
  {
   "cell_type": "code",
   "execution_count": 14,
   "metadata": {
    "collapsed": false
   },
   "outputs": [
    {
     "name": "stdout",
     "output_type": "stream",
     "text": [
      "( a / ( b - 3 ) ) = 0.50\n",
      "( ( 10 + 5 ) * 3 ) = 45.00\n",
      "( ( ( ( 3 + 1 ) * 3 ) / ( ( 9 - 5 ) + 2 ) ) - ( ( 3 * ( 7 - 4 ) ) + 6 ) ) = -13.00\n"
     ]
    }
   ],
   "source": [
    "### TODO.P7\n",
    "\n",
    "ep4 = ExpressionTree(addspace(\"(a/(b-3))\"))\n",
    "print(\"%s = %.2f\" % (ep4, ep4.evaluate(vars)))\n",
    "\n",
    "ep5 = ExpressionTree(addspace(\"((10+5)*3)\"))\n",
    "print(\"%s = %.2f\" % (ep5, ep5.evaluate(vars)))\n",
    "\n",
    "ep6 = ExpressionTree(addspace(\"((((3+1)*3)/((9-5)+2))-((3*(7-4))+6))\"))\n",
    "print(\"%s = %.2f\" % (ep6, ep6.evaluate(vars)))"
   ]
  }
 ],
 "metadata": {
  "anaconda-cloud": {},
  "kernelspec": {
   "display_name": "Python [dsalab]",
   "language": "python",
   "name": "Python [dsalab]"
  },
  "language_info": {
   "codemirror_mode": {
    "name": "ipython",
    "version": 3
   },
   "file_extension": ".py",
   "mimetype": "text/x-python",
   "name": "python",
   "nbconvert_exporter": "python",
   "pygments_lexer": "ipython3",
   "version": "3.5.2"
  }
 },
 "nbformat": 4,
 "nbformat_minor": 0
}
