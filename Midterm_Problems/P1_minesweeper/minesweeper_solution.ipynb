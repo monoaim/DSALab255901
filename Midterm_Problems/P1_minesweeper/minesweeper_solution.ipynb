{
 "cells": [
  {
   "cell_type": "code",
   "execution_count": 1,
   "metadata": {
    "collapsed": false
   },
   "outputs": [],
   "source": [
    "from dsa_array import Array2D\n",
    "\n",
    "class MineSweeperField:\n",
    "    \"\"\"An 2-D array based implementation of Minesweeper Field ADT\"\"\"\n",
    "    def __init__(self, nrows, ncols):\n",
    "        self._field = Array2D(nrows, ncols)\n",
    "    def set_cell(self, row, col, value):\n",
    "        self._field[row, col] = value\n",
    "    def get_cell(self, row, col):\n",
    "        return self._field[row, col]\n",
    "\n",
    "def readFieldDim(inputfile):\n",
    "    \"\"\"Read field dimension NUM_LINES x NUM_COLUMNS\n",
    "    \n",
    "    Returns a tuple of num_lines, num_columns \n",
    "    \"\"\"\n",
    "    num_lines, num_columns = inputfile.readline().strip().split()   \n",
    "    return int(num_lines), int(num_columns)    \n",
    "\n",
    "def readInputField(inputfile, n, m):\n",
    "    \"\"\"Read a n x m minesweeper field from a file handle 'inputfile'.\n",
    "    \n",
    "    Returns an Array2D object representing a minesweeper field.\n",
    "    \"\"\"\n",
    "    field = MineSweeperField(n, m)   \n",
    "    # read the n x m minesweeper field\n",
    "    for i in range(n):\n",
    "        line = inputfile.readline().strip()\n",
    "        for j in range(len(line)):\n",
    "            field.set_cell(i, j, line[j])\n",
    "        \n",
    "    return field\n",
    "\n",
    "def generate_hint_field(rows, cols, field):\n",
    "    MINE = '*'\n",
    "    SAFE = '.'\n",
    "    \n",
    "    hint = ''\n",
    "    for i in range(rows):\n",
    "        for j in range(cols):            \n",
    "            if field.get_cell(i, j) == MINE:\n",
    "                hint += MINE            \n",
    "            else:  \n",
    "                # count adjacent mines\n",
    "                adjacent_mines = 0                \n",
    "                for n in range(max(0, i-1), min(i+2, rows)):                    \n",
    "                    for m in range(max(0, j-1), min(j+2, cols)):               \n",
    "                        if (n==i and m==j):\n",
    "                            continue\n",
    "                        if field.get_cell(n, m) == MINE:\n",
    "                            adjacent_mines += 1\n",
    "                            \n",
    "                hint += str(adjacent_mines)\n",
    "\n",
    "        hint += '\\n'\n",
    "    return hint\n",
    "\n",
    "def gen_hints(inputfile):    \n",
    "    \"\"\"Generate Hints for Mine Sweeper fields as specified in the inputfile.\n",
    "    \n",
    "    Returns a string of minesweeper hints\n",
    "    \"\"\"\n",
    "    hints = ''\n",
    "    ### TODO - BEGIN OF YOUR CODE ###\n",
    "    \n",
    "    with open(inputfile) as ipf:   \n",
    "        num = 1        \n",
    "        while True:\n",
    "            n, m = readFieldDim(ipf)\n",
    "            if n==0 and m==0: break\n",
    "            field = readInputField(ipf, n, m)\n",
    "            hint = generate_hint_field(n, m, field)\n",
    "            hints += \"Field #%d:\\n%s\\n\" % (num, hint)  \n",
    "            num += 1\n",
    "            \n",
    "    ### TODO - END OF YOUR CODE ###\n",
    "    \n",
    "    return hints"
   ]
  },
  {
   "cell_type": "code",
   "execution_count": 2,
   "metadata": {
    "collapsed": false
   },
   "outputs": [
    {
     "name": "stdout",
     "output_type": "stream",
     "text": [
      "Field #1:\n",
      "*100\n",
      "2210\n",
      "1*10\n",
      "1110\n",
      "\n",
      "Field #2:\n",
      "**100\n",
      "33200\n",
      "1*100\n",
      "\n"
     ]
    }
   ],
   "source": [
    "print(gen_hints('t1.in'),end=\"\")"
   ]
  },
  {
   "cell_type": "code",
   "execution_count": 3,
   "metadata": {
    "collapsed": false
   },
   "outputs": [
    {
     "data": {
      "text/markdown": [
       "**<span style=\"color: green;\">Tested <function gen_hints at 0x1041978c8> with test_case1: PASSED</span>**"
      ],
      "text/plain": [
       "<IPython.core.display.Markdown object>"
      ]
     },
     "metadata": {},
     "output_type": "display_data"
    },
    {
     "data": {
      "text/markdown": [
       "**<span style=\"color: green;\">Tested <function gen_hints at 0x1041978c8> with test_case2: PASSED</span>**"
      ],
      "text/plain": [
       "<IPython.core.display.Markdown object>"
      ]
     },
     "metadata": {},
     "output_type": "display_data"
    }
   ],
   "source": [
    "import test_minesweeper\n",
    "import imp\n",
    "imp.reload(test_minesweeper)\n",
    "\n",
    "test_minesweeper.run_check(gen_hints, 'test_case1')\n",
    "test_minesweeper.run_check(gen_hints, 'test_case2')"
   ]
  },
  {
   "cell_type": "code",
   "execution_count": null,
   "metadata": {
    "collapsed": true
   },
   "outputs": [],
   "source": []
  }
 ],
 "metadata": {
  "anaconda-cloud": {},
  "kernelspec": {
   "display_name": "Python [py35con]",
   "language": "python",
   "name": "Python [py35con]"
  },
  "language_info": {
   "codemirror_mode": {
    "name": "ipython",
    "version": 3
   },
   "file_extension": ".py",
   "mimetype": "text/x-python",
   "name": "python",
   "nbconvert_exporter": "python",
   "pygments_lexer": "ipython3",
   "version": "3.5.2"
  }
 },
 "nbformat": 4,
 "nbformat_minor": 0
}
