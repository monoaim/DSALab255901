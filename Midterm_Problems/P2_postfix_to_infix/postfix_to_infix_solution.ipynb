{
 "cells": [
  {
   "cell_type": "code",
   "execution_count": 1,
   "metadata": {
    "collapsed": true
   },
   "outputs": [],
   "source": [
    "# TODO.P2-1: define a linked-list based Stack ADT\n",
    "\n",
    "class Stack:\n",
    "    \n",
    "    class _StackNode:\n",
    "        def __init__(self, item, next_link):\n",
    "            self.item = item\n",
    "            self.next_link = next_link\n",
    "            \n",
    "    def __init__(self):\n",
    "        \"\"\"Create an empty stack.\"\"\"\n",
    "        self._head = None\n",
    "        \n",
    "    def isEmpty(self):\n",
    "        \"\"\"Returns True if the stack is empty, False otherwise.\"\"\"\n",
    "        return self._head is None\n",
    "    \n",
    "    def push(self, item):\n",
    "        \"\"\"Push an item on the top of the stack.\"\"\"\n",
    "        self._head = self._StackNode(item, self._head)\n",
    "        \n",
    "    def pop(self):\n",
    "        \"\"\"Pop the top item off the stack.\n",
    "        \n",
    "        Returns the top 'item'.\n",
    "        \n",
    "        Raises an AssertionError if the stack is empty.\n",
    "        \"\"\"\n",
    "        assert not self.isEmpty(), \"cannot pop from an empty stack.\"\n",
    "        \n",
    "        item = self._head.item        \n",
    "        self._head = self._head.next_link\n",
    "        return item\n",
    "    \n",
    "    def clear(self):\n",
    "        \"\"\"Empty the stack by clearing all items\"\"\"\n",
    "        self._head = None"
   ]
  },
  {
   "cell_type": "code",
   "execution_count": 2,
   "metadata": {
    "collapsed": false
   },
   "outputs": [
    {
     "data": {
      "text/markdown": [
       "**<span style=\"color: green;\">Tested <__main__.Stack object at 0x10418a5f8> with test_case1: PASSED</span>**"
      ],
      "text/plain": [
       "<IPython.core.display.Markdown object>"
      ]
     },
     "metadata": {},
     "output_type": "display_data"
    }
   ],
   "source": [
    "### Test.P2-1 \n",
    "# Test case name: 'test_case1'\n",
    "# Press Shift-Enter to run the test.\n",
    "\n",
    "import test_postfix_to_infix\n",
    "import imp\n",
    "imp.reload(test_postfix_to_infix)\n",
    "\n",
    "S = Stack()\n",
    "test_postfix_to_infix.run_check(S, 'test_case1')\n"
   ]
  },
  {
   "cell_type": "code",
   "execution_count": 3,
   "metadata": {
    "collapsed": false
   },
   "outputs": [],
   "source": [
    "# TODO.P2-2: write a program that converts a postfix expression to infix, using a pushdown stack.\n",
    "\n",
    "import operator\n",
    "\n",
    "class PostfixEvaluator:\n",
    "    \n",
    "    def __init__(self):\n",
    "        \"\"\"Initialize the converter with a pushdown stack.\"\"\"\n",
    "        self._stack = Stack()\n",
    "        self.OPERATORS = {'+': operator.add, '-': operator.sub, '*': operator.mul, '/': operator.floordiv}\n",
    "    \n",
    "    def postfix_to_infix(self, postfix_string):\n",
    "        \"\"\"Convert a postfix expression to infix expression.\n",
    "        \n",
    "        postfix_string a string representation of the postfix expression.\n",
    "        \n",
    "        Returns.\n",
    "            infix expression \n",
    "        \"\"\"        \n",
    "        \n",
    "        self._stack.clear()\n",
    "        \n",
    "        tokens = postfix_string.split()\n",
    "                \n",
    "        for token in tokens:\n",
    "            if token.isdigit():  # ch is 0..9\n",
    "                self._stack.push(token)\n",
    "            elif token in self.OPERATORS.keys():\n",
    "                rhs = self._stack.pop()\n",
    "                lhs = self._stack.pop()\n",
    "                infix = \"({0}{1}{2})\".format(lhs, token, rhs)   # ch is the operator\n",
    "                                \n",
    "                self._stack.push(infix)\n",
    "            else:\n",
    "                raise ValueError(\"%s is not a valid symbol.\" % token)                \n",
    "        \n",
    "        return self._stack.pop()\n",
    "        \n",
    "    \n",
    "    def eval(self, postfix_string):\n",
    "        \"\"\"Evaluate a postfix expression.\n",
    "\n",
    "        postfix_string a string representation of the postfix expression.\n",
    "        \n",
    "        Returns.\n",
    "            the value of the postfix expression         \n",
    "        \"\"\"\n",
    "        \n",
    "        self._stack.clear()\n",
    "        \n",
    "        tokens = postfix_string.split()\n",
    "        \n",
    "        for token in tokens:\n",
    "            if token.isdigit():  # ch is 0..9\n",
    "                self._stack.push(int(token))\n",
    "            elif token in self.OPERATORS.keys():\n",
    "                rhs = self._stack.pop()\n",
    "                lhs = self._stack.pop()\n",
    "                res = self.OPERATORS[token](lhs, rhs)\n",
    "                \n",
    "                self._stack.push(res)\n",
    "                \n",
    "            else:\n",
    "                raise ValueError(\"%s is not a valid symbol.\" % token)\n",
    "        \n",
    "        return self._stack.pop()\n"
   ]
  },
  {
   "cell_type": "code",
   "execution_count": 4,
   "metadata": {
    "collapsed": false
   },
   "outputs": [
    {
     "data": {
      "text/markdown": [
       "*<span style=\"color: black;\">2 3 +</span>*"
      ],
      "text/plain": [
       "<IPython.core.display.Markdown object>"
      ]
     },
     "metadata": {},
     "output_type": "display_data"
    },
    {
     "data": {
      "text/markdown": [
       " ........ ok"
      ],
      "text/plain": [
       "<IPython.core.display.Markdown object>"
      ]
     },
     "metadata": {},
     "output_type": "display_data"
    },
    {
     "data": {
      "text/markdown": [
       "*<span style=\"color: black;\">17 5 - 6 / 8 9 + *</span>*"
      ],
      "text/plain": [
       "<IPython.core.display.Markdown object>"
      ]
     },
     "metadata": {},
     "output_type": "display_data"
    },
    {
     "data": {
      "text/markdown": [
       " ........ ok"
      ],
      "text/plain": [
       "<IPython.core.display.Markdown object>"
      ]
     },
     "metadata": {},
     "output_type": "display_data"
    },
    {
     "data": {
      "text/markdown": [
       "*<span style=\"color: black;\">42 5 + 56 25 100 / - *</span>*"
      ],
      "text/plain": [
       "<IPython.core.display.Markdown object>"
      ]
     },
     "metadata": {},
     "output_type": "display_data"
    },
    {
     "data": {
      "text/markdown": [
       " ........ ok"
      ],
      "text/plain": [
       "<IPython.core.display.Markdown object>"
      ]
     },
     "metadata": {},
     "output_type": "display_data"
    },
    {
     "data": {
      "text/markdown": [
       "*<span style=\"color: black;\">45 4 + 70 * 35 / 101 + 7810 * 5 / 567 + 900 - 1000 - 4631 + 3034 * 123 - 2345 + 2456 *</span>*"
      ],
      "text/plain": [
       "<IPython.core.display.Markdown object>"
      ]
     },
     "metadata": {},
     "output_type": "display_data"
    },
    {
     "data": {
      "text/markdown": [
       " ........ ok"
      ],
      "text/plain": [
       "<IPython.core.display.Markdown object>"
      ]
     },
     "metadata": {},
     "output_type": "display_data"
    },
    {
     "data": {
      "text/markdown": [
       "*<span style=\"color: black;\">5 9 8 + 4 6 * * 7 + *</span>*"
      ],
      "text/plain": [
       "<IPython.core.display.Markdown object>"
      ]
     },
     "metadata": {},
     "output_type": "display_data"
    },
    {
     "data": {
      "text/markdown": [
       " ........ ok"
      ],
      "text/plain": [
       "<IPython.core.display.Markdown object>"
      ]
     },
     "metadata": {},
     "output_type": "display_data"
    },
    {
     "data": {
      "text/markdown": [
       "*<span style=\"color: black;\">9 30 *</span>*"
      ],
      "text/plain": [
       "<IPython.core.display.Markdown object>"
      ]
     },
     "metadata": {},
     "output_type": "display_data"
    },
    {
     "data": {
      "text/markdown": [
       " ........ ok"
      ],
      "text/plain": [
       "<IPython.core.display.Markdown object>"
      ]
     },
     "metadata": {},
     "output_type": "display_data"
    },
    {
     "data": {
      "text/markdown": [
       "*<span style=\"color: black;\">2 5 * 3 +</span>*"
      ],
      "text/plain": [
       "<IPython.core.display.Markdown object>"
      ]
     },
     "metadata": {},
     "output_type": "display_data"
    },
    {
     "data": {
      "text/markdown": [
       " ........ ok"
      ],
      "text/plain": [
       "<IPython.core.display.Markdown object>"
      ]
     },
     "metadata": {},
     "output_type": "display_data"
    },
    {
     "data": {
      "text/markdown": [
       "*<span style=\"color: black;\">3 4 5 + *</span>*"
      ],
      "text/plain": [
       "<IPython.core.display.Markdown object>"
      ]
     },
     "metadata": {},
     "output_type": "display_data"
    },
    {
     "data": {
      "text/markdown": [
       " ........ ok"
      ],
      "text/plain": [
       "<IPython.core.display.Markdown object>"
      ]
     },
     "metadata": {},
     "output_type": "display_data"
    },
    {
     "data": {
      "text/markdown": [
       "*<span style=\"color: black;\">1 2 + 3 +</span>*"
      ],
      "text/plain": [
       "<IPython.core.display.Markdown object>"
      ]
     },
     "metadata": {},
     "output_type": "display_data"
    },
    {
     "data": {
      "text/markdown": [
       " ........ ok"
      ],
      "text/plain": [
       "<IPython.core.display.Markdown object>"
      ]
     },
     "metadata": {},
     "output_type": "display_data"
    },
    {
     "data": {
      "text/markdown": [
       "*<span style=\"color: black;\">1 2 3 + +</span>*"
      ],
      "text/plain": [
       "<IPython.core.display.Markdown object>"
      ]
     },
     "metadata": {},
     "output_type": "display_data"
    },
    {
     "data": {
      "text/markdown": [
       " ........ ok"
      ],
      "text/plain": [
       "<IPython.core.display.Markdown object>"
      ]
     },
     "metadata": {},
     "output_type": "display_data"
    },
    {
     "data": {
      "text/markdown": [
       "*<span style=\"color: black;\">1 2 + 3 + 4 + 5 + 6 + 7 +</span>*"
      ],
      "text/plain": [
       "<IPython.core.display.Markdown object>"
      ]
     },
     "metadata": {},
     "output_type": "display_data"
    },
    {
     "data": {
      "text/markdown": [
       " ........ ok"
      ],
      "text/plain": [
       "<IPython.core.display.Markdown object>"
      ]
     },
     "metadata": {},
     "output_type": "display_data"
    },
    {
     "data": {
      "text/markdown": [
       "**<span style=\"color: green;\">Tested <__main__.PostfixEvaluator object at 0x10424e7b8> with test_case2: PASSED</span>**"
      ],
      "text/plain": [
       "<IPython.core.display.Markdown object>"
      ]
     },
     "metadata": {},
     "output_type": "display_data"
    }
   ],
   "source": [
    "### Test.P2-1 \n",
    "# Test case name: 'test_case2'\n",
    "# Press Shift-Enter to run the test.\n",
    "\n",
    "import test_postfix_to_infix\n",
    "import imp\n",
    "imp.reload(test_postfix_to_infix)\n",
    "\n",
    "pf = PostfixEvaluator()\n",
    "test_postfix_to_infix.run_check(pf, 'test_case2')"
   ]
  },
  {
   "cell_type": "code",
   "execution_count": null,
   "metadata": {
    "collapsed": true
   },
   "outputs": [],
   "source": []
  }
 ],
 "metadata": {
  "anaconda-cloud": {},
  "kernelspec": {
   "display_name": "Python [py35con]",
   "language": "python",
   "name": "Python [py35con]"
  },
  "language_info": {
   "codemirror_mode": {
    "name": "ipython",
    "version": 3
   },
   "file_extension": ".py",
   "mimetype": "text/x-python",
   "name": "python",
   "nbconvert_exporter": "python",
   "pygments_lexer": "ipython3",
   "version": "3.5.2"
  }
 },
 "nbformat": 4,
 "nbformat_minor": 0
}
