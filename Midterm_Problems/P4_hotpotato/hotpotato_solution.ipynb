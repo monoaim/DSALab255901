{
 "cells": [
  {
   "cell_type": "code",
   "execution_count": 6,
   "metadata": {
    "collapsed": false
   },
   "outputs": [],
   "source": [
    "###\n",
    "### TODO.P4-1\n",
    "###\n",
    "### Complete the implementation of the FIFO Queue class below.\n",
    "###\n",
    "\n",
    "class Queue:\n",
    "    \"\"\"A linked list based implementation of a FIFO queue.\"\"\"\n",
    "    \n",
    "    class _QNode:\n",
    "        \"\"\"A queue node.\"\"\"\n",
    "        def __init__(self, item, next_ptr):\n",
    "            self.item = item\n",
    "            self.next = next_ptr\n",
    "    \n",
    "    def __init__(self):\n",
    "        \"\"\"Create an empty queue.\"\"\"\n",
    "        self._head = None\n",
    "        self._tail = None\n",
    "        self._size = 0\n",
    "        \n",
    "    def size(self):\n",
    "        \"\"\"Return the number of items stored in the queue.\"\"\"\n",
    "        return self._size\n",
    "\n",
    "    def enqueue(self, item):\n",
    "        \"\"\"Put an item at the back of the queue.\"\"\"\n",
    "        node = self._QNode(item, None)\n",
    "        if self.size() == 0:\n",
    "            self._head = node\n",
    "            self._tail = node\n",
    "        else:\n",
    "            self._tail.next = node\n",
    "            self._tail = self._tail.next\n",
    "        self._size += 1\n",
    "        \n",
    "    def dequeue(self):\n",
    "        \"\"\"Remove an item from the front of the queue. \n",
    "        Raises AssertionError if the queue is empty.\n",
    "        \n",
    "        Returns.\n",
    "            an item.\n",
    "        \"\"\"\n",
    "        assert self.size() > 0, \"queue is empty.\"\n",
    "        item = self._head.item\n",
    "        if self.size() == 1:\n",
    "            self._head = None\n",
    "            self._tail = None\n",
    "        else:\n",
    "            self._head = self._head.next\n",
    "        self._size -= 1\n",
    "        return item\n",
    "    \n",
    "    def printqueue(self):\n",
    "        \"\"\"Print all items inside the queue.\"\"\"\n",
    "        t = self._head\n",
    "        while t is not None:\n",
    "           print(t.item, end=' ')\n",
    "           t = t.next\n",
    "            "
   ]
  },
  {
   "cell_type": "code",
   "execution_count": 7,
   "metadata": {
    "collapsed": false
   },
   "outputs": [
    {
     "data": {
      "text/markdown": [
       "**<span style=\"color: green;\">Tested <__main__.Queue object at 0x10406dc18> with test_case1: PASSED</span>**"
      ],
      "text/plain": [
       "<IPython.core.display.Markdown object>"
      ]
     },
     "metadata": {},
     "output_type": "display_data"
    }
   ],
   "source": [
    "### Test.P4-1 \n",
    "# Test case name: 'test_case1'\n",
    "# Press Shift-Enter to run the test.\n",
    "\n",
    "import test_hotpotato\n",
    "import imp\n",
    "imp.reload(test_hotpotato)\n",
    "\n",
    "Q = Queue()\n",
    "test_hotpotato.run_check(Q, 'test_case1')\n"
   ]
  },
  {
   "cell_type": "code",
   "execution_count": 8,
   "metadata": {
    "collapsed": true
   },
   "outputs": [],
   "source": [
    "###\n",
    "### TODO.P4-2\n",
    "### Simulation of Hot Potato\n",
    "###\n",
    "\n",
    "def hot_potato(N, namelist):\n",
    "    \"\"\"a simulation of the Hot Potato game.\n",
    "    \n",
    "    N         the number of passing for each iteration.\n",
    "    namelist   a list of children playing the game\n",
    "    \n",
    "    At each iteration (each stop of the item passing), \n",
    "    the simulation prints the circle and the name of the child that gets out.\n",
    "    The last child remains is the Winner.\n",
    "    \n",
    "    Return the name of the Winner.\n",
    "    \n",
    "    \"\"\"\n",
    "    simqueue = Queue()\n",
    "    for name in namelist:\n",
    "        simqueue.enqueue(name)\n",
    "        \n",
    "    print(\"\\n# Passing Hot Potato...N = %d\" % N)\n",
    "\n",
    "    while simqueue.size() > 1:\n",
    "        # print the remaining children\n",
    "        simqueue.printqueue()\n",
    "        \n",
    "        for i in range(N):\n",
    "            simqueue.enqueue(simqueue.dequeue())\n",
    "\n",
    "        potato = simqueue.dequeue()\n",
    "        print(\" -- %s is out.\" % potato)\n",
    "    \n",
    "    winner = simqueue.dequeue()\n",
    "    print(\"# %s is the Winner.\" % winner)\n",
    "    \n",
    "    return winner"
   ]
  },
  {
   "cell_type": "code",
   "execution_count": 9,
   "metadata": {
    "collapsed": false
   },
   "outputs": [
    {
     "name": "stdout",
     "output_type": "stream",
     "text": [
      "\n",
      "# Passing Hot Potato...N = 7\n",
      "Bill David Susan Jane Kent Brad  -- David is out.\n",
      "Susan Jane Kent Brad Bill  -- Kent is out.\n",
      "Brad Bill Susan Jane  -- Jane is out.\n",
      "Brad Bill Susan  -- Bill is out.\n",
      "Susan Brad  -- Brad is out.\n",
      "# Susan is the Winner.\n"
     ]
    }
   ],
   "source": [
    "### Test.P4-2.t1\n",
    "# Run this cell to test your hot_potato implementation.\n",
    "#\n",
    "### Sample output for hot_potato(7, lineup)\n",
    "###\n",
    "## Passing Hot Potato...N = 7\n",
    "#  Bill David Susan Jane Kent Brad  -- David is out.\n",
    "#  Susan Jane Kent Brad Bill  -- Kent is out.\n",
    "#  Brad Bill Susan Jane  -- Jane is out.\n",
    "#  Brad Bill Susan  -- Bill is out.\n",
    "#  Susan Brad  -- Brad is out.\n",
    "#  Susan is the Winner\n",
    "\n",
    "lineup = [\"Bill\",\"David\",\"Susan\",\"Jane\",\"Kent\",\"Brad\"]  \n",
    "\n",
    "Winner = hot_potato(7, lineup)\n"
   ]
  },
  {
   "cell_type": "code",
   "execution_count": 10,
   "metadata": {
    "collapsed": false
   },
   "outputs": [
    {
     "name": "stdout",
     "output_type": "stream",
     "text": [
      "\n",
      "# Passing Hot Potato...N = 7\n",
      "Bill David Susan Jane Kent Brad  -- David is out.\n",
      "Susan Jane Kent Brad Bill  -- Kent is out.\n",
      "Brad Bill Susan Jane  -- Jane is out.\n",
      "Brad Bill Susan  -- Bill is out.\n",
      "Susan Brad  -- Brad is out.\n",
      "# Susan is the Winner.\n",
      "\n",
      "# Passing Hot Potato...N = 5\n",
      "Bill David Susan Jane Kent Brad  -- Brad is out.\n",
      "Bill David Susan Jane Kent  -- Bill is out.\n",
      "David Susan Jane Kent  -- Susan is out.\n",
      "Jane Kent David  -- David is out.\n",
      "Jane Kent  -- Kent is out.\n",
      "# Jane is the Winner.\n",
      "\n",
      "# Passing Hot Potato...N = 2\n",
      "Bill David Susan Jane  -- Susan is out.\n",
      "Jane Bill David  -- David is out.\n",
      "Jane Bill  -- Jane is out.\n",
      "# Bill is the Winner.\n",
      "\n",
      "# Passing Hot Potato...N = 3\n",
      "1 2 3 4 5 6 7 8 9 10 11 12 13 14 15 16 17 18 19 20 21 22 23 24 25 26 27 28 29 30 31 32 33 34 35 36 37 38 39 40 41  -- 4 is out.\n",
      "5 6 7 8 9 10 11 12 13 14 15 16 17 18 19 20 21 22 23 24 25 26 27 28 29 30 31 32 33 34 35 36 37 38 39 40 41 1 2 3  -- 8 is out.\n",
      "9 10 11 12 13 14 15 16 17 18 19 20 21 22 23 24 25 26 27 28 29 30 31 32 33 34 35 36 37 38 39 40 41 1 2 3 5 6 7  -- 12 is out.\n",
      "13 14 15 16 17 18 19 20 21 22 23 24 25 26 27 28 29 30 31 32 33 34 35 36 37 38 39 40 41 1 2 3 5 6 7 9 10 11  -- 16 is out.\n",
      "17 18 19 20 21 22 23 24 25 26 27 28 29 30 31 32 33 34 35 36 37 38 39 40 41 1 2 3 5 6 7 9 10 11 13 14 15  -- 20 is out.\n",
      "21 22 23 24 25 26 27 28 29 30 31 32 33 34 35 36 37 38 39 40 41 1 2 3 5 6 7 9 10 11 13 14 15 17 18 19  -- 24 is out.\n",
      "25 26 27 28 29 30 31 32 33 34 35 36 37 38 39 40 41 1 2 3 5 6 7 9 10 11 13 14 15 17 18 19 21 22 23  -- 28 is out.\n",
      "29 30 31 32 33 34 35 36 37 38 39 40 41 1 2 3 5 6 7 9 10 11 13 14 15 17 18 19 21 22 23 25 26 27  -- 32 is out.\n",
      "33 34 35 36 37 38 39 40 41 1 2 3 5 6 7 9 10 11 13 14 15 17 18 19 21 22 23 25 26 27 29 30 31  -- 36 is out.\n",
      "37 38 39 40 41 1 2 3 5 6 7 9 10 11 13 14 15 17 18 19 21 22 23 25 26 27 29 30 31 33 34 35  -- 40 is out.\n",
      "41 1 2 3 5 6 7 9 10 11 13 14 15 17 18 19 21 22 23 25 26 27 29 30 31 33 34 35 37 38 39  -- 3 is out.\n",
      "5 6 7 9 10 11 13 14 15 17 18 19 21 22 23 25 26 27 29 30 31 33 34 35 37 38 39 41 1 2  -- 9 is out.\n",
      "10 11 13 14 15 17 18 19 21 22 23 25 26 27 29 30 31 33 34 35 37 38 39 41 1 2 5 6 7  -- 14 is out.\n",
      "15 17 18 19 21 22 23 25 26 27 29 30 31 33 34 35 37 38 39 41 1 2 5 6 7 10 11 13  -- 19 is out.\n",
      "21 22 23 25 26 27 29 30 31 33 34 35 37 38 39 41 1 2 5 6 7 10 11 13 15 17 18  -- 25 is out.\n",
      "26 27 29 30 31 33 34 35 37 38 39 41 1 2 5 6 7 10 11 13 15 17 18 21 22 23  -- 30 is out.\n",
      "31 33 34 35 37 38 39 41 1 2 5 6 7 10 11 13 15 17 18 21 22 23 26 27 29  -- 35 is out.\n",
      "37 38 39 41 1 2 5 6 7 10 11 13 15 17 18 21 22 23 26 27 29 31 33 34  -- 41 is out.\n",
      "1 2 5 6 7 10 11 13 15 17 18 21 22 23 26 27 29 31 33 34 37 38 39  -- 6 is out.\n",
      "7 10 11 13 15 17 18 21 22 23 26 27 29 31 33 34 37 38 39 1 2 5  -- 13 is out.\n",
      "15 17 18 21 22 23 26 27 29 31 33 34 37 38 39 1 2 5 7 10 11  -- 21 is out.\n",
      "22 23 26 27 29 31 33 34 37 38 39 1 2 5 7 10 11 15 17 18  -- 27 is out.\n",
      "29 31 33 34 37 38 39 1 2 5 7 10 11 15 17 18 22 23 26  -- 34 is out.\n",
      "37 38 39 1 2 5 7 10 11 15 17 18 22 23 26 29 31 33  -- 1 is out.\n",
      "2 5 7 10 11 15 17 18 22 23 26 29 31 33 37 38 39  -- 10 is out.\n",
      "11 15 17 18 22 23 26 29 31 33 37 38 39 2 5 7  -- 18 is out.\n",
      "22 23 26 29 31 33 37 38 39 2 5 7 11 15 17  -- 29 is out.\n",
      "31 33 37 38 39 2 5 7 11 15 17 22 23 26  -- 38 is out.\n",
      "39 2 5 7 11 15 17 22 23 26 31 33 37  -- 7 is out.\n",
      "11 15 17 22 23 26 31 33 37 39 2 5  -- 22 is out.\n",
      "23 26 31 33 37 39 2 5 11 15 17  -- 33 is out.\n",
      "37 39 2 5 11 15 17 23 26 31  -- 5 is out.\n",
      "11 15 17 23 26 31 37 39 2  -- 23 is out.\n",
      "26 31 37 39 2 11 15 17  -- 39 is out.\n",
      "2 11 15 17 26 31 37  -- 17 is out.\n",
      "26 31 37 2 11 15  -- 2 is out.\n",
      "11 15 26 31 37  -- 31 is out.\n",
      "37 11 15 26  -- 26 is out.\n",
      "37 11 15  -- 37 is out.\n",
      "11 15  -- 15 is out.\n",
      "# 11 is the Winner.\n"
     ]
    },
    {
     "data": {
      "text/markdown": [
       "**<span style=\"color: green;\">Tested <function hot_potato at 0x104260ea0> with test_case2: PASSED</span>**"
      ],
      "text/plain": [
       "<IPython.core.display.Markdown object>"
      ]
     },
     "metadata": {},
     "output_type": "display_data"
    }
   ],
   "source": [
    "### Test.P4-2.t2\n",
    "# Test case name: 'test_case2'\n",
    "# Press Shift-Enter to run the test.\n",
    "\n",
    "import test_hotpotato\n",
    "import imp\n",
    "imp.reload(test_hotpotato)\n",
    "\n",
    "\n",
    "test_hotpotato.run_check(hot_potato, 'test_case2')\n"
   ]
  },
  {
   "cell_type": "code",
   "execution_count": null,
   "metadata": {
    "collapsed": true
   },
   "outputs": [],
   "source": []
  }
 ],
 "metadata": {
  "anaconda-cloud": {},
  "kernelspec": {
   "display_name": "Python [py35con]",
   "language": "python",
   "name": "Python [py35con]"
  },
  "language_info": {
   "codemirror_mode": {
    "name": "ipython",
    "version": 3
   },
   "file_extension": ".py",
   "mimetype": "text/x-python",
   "name": "python",
   "nbconvert_exporter": "python",
   "pygments_lexer": "ipython3",
   "version": "3.5.2"
  }
 },
 "nbformat": 4,
 "nbformat_minor": 0
}
