{
 "cells": [
  {
   "cell_type": "markdown",
   "metadata": {},
   "source": [
    "13016213 Data Structures and Algorithms Laboratory\n",
    "\n",
    "**NOTE** click here to select this cell, press Esc-Enter to enter cell edit mode, press Shift-Enter to put the cell back to display mode.\n",
    "\n",
    "#### Name: *Araya Siriadun*\n",
    "\n",
    "#### Student ID: *58090046*\n",
    "\n",
    "Laboratory 2: Arrays\n",
    "===\n",
    "\n",
    "## Overview\n",
    "\n",
    "**Array** is the most fundamental structure for storing and accessing a collection of data items. Most high-level programming languages provide the array as a primitive data type and allow the creation of arrays with multiple dimensions. In this laboratory, we implement a one-dimensional array ADT (Abstract Data Type) and then use it to implement a two-dimensional array ADT.\n",
    "\n",
    "\n",
    "## The Array Structure\n",
    "\n",
    "A one-dimensional dimensional array, as shown in Figure 2.1 below, is composed of sequential elements stored in a *contiguous* bytes of memory. The entire content of an array are identified with a single name. Each element within the array can be access directly by specifying an index value which indicates an offset from the start of the array. For instance, to access the fourth element of the array in Figure 2.1, we write $x[3]$.\n",
    "\n",
    "\n"
   ]
  },
  {
   "cell_type": "markdown",
   "metadata": {},
   "source": [
    "<center>![Array Structure](figs/0201.png)\n",
    "**Figure 2.1 A one-dimensional array.**</center>"
   ]
  },
  {
   "cell_type": "markdown",
   "metadata": {},
   "source": [
    "## Defining the Array Abstract Data Type\n",
    "\n",
    "### Array ADT interface\n",
    "A *one-dimensional array* is a collection of contiguous elements in which individual elements are identified by a unique integer subscript starting with zero. Once an array is created, its size cannot be changed.\n",
    "\n",
    "* **Array( size )** <br>\n",
    "&emsp;&emsp;Creates a one-dimensional array consisting of *size* elements with each element initially set to *None*. *size* must be greater than zero.\n",
    "\n",
    "* **length( )** <br>\n",
    "&emsp;&emsp;Returns the length or number of elements in the array.\n",
    "\n",
    "* **getitem( index )** <br>\n",
    "&emsp;&emsp;Returns the value stored in the array at element position *index*. The *index* argument must be within the valid range. Accessed using the subscript operator. \n",
    "\n",
    "* **setitem( index, value )** <br>\n",
    "&emsp;&emsp;Modifies the contents of the array element at position *index* to contain *value*. The index must be within the valid range. Accessed using the subscript operator.\n",
    "\n",
    "* **clear( value )** <br>\n",
    "&emsp;&emsp;Clears the array by setting every element to *value*.\n",
    "\n",
    "* **iterator( )** <br>\n",
    "&emsp;&emsp;Creates and returns an iterator that can be used to traverse the elements of the array."
   ]
  },
  {
   "cell_type": "markdown",
   "metadata": {},
   "source": [
    "<hr>\n",
    "### Question 2.1 [2 marks]\n",
    "Python provides a built-in **list** data type. The array ADT is *very similar* to Python's list. Both structures are sequences of multiple sequential elements that can be accessed by indices. What are the major differences between our array ADT and Python's list data type?"
   ]
  },
  {
   "cell_type": "markdown",
   "metadata": {},
   "source": [
    "### Answer 2.1: \n",
    "\n",
    "\n",
    "The array ADT is a container which can hold fixed number of items and these items should be of same type. Whereas Python's list is more flexible than the array ADT and have entries of various object types. The array ADT are also more efficient for some numerical computation.\n",
    "\n",
    "\n",
    "\n",
    "<hr>"
   ]
  },
  {
   "cell_type": "markdown",
   "metadata": {},
   "source": [
    "## Using the Array ADT\n",
    "\n",
    "The following program illustrates the creation and the usage of an array object based on the Array ADT.\n",
    "\n",
    "```python\n",
    "# Listing 2.1\n",
    "import random\n",
    "\n",
    "# create an array size 10\n",
    "floatArray = Array( 10 )\n",
    "\n",
    "# fill in the array with random floating-point values.\n",
    "for i in range( len(floatArray) ):\n",
    "    floatArray[i] = random.random()\n",
    "\n",
    "# print the values, one per line.\n",
    "for value in floatArray:\n",
    "    print( value )\n",
    "```"
   ]
  },
  {
   "cell_type": "markdown",
   "metadata": {},
   "source": [
    "## Implementing the Array\n",
    "The implementation of the Array ADT using a hardware-supported array created using the Python's *ctypes* module is provided in Listing 2.2."
   ]
  },
  {
   "cell_type": "code",
   "execution_count": 1,
   "metadata": {
    "collapsed": true
   },
   "outputs": [],
   "source": [
    "# Listing 2.2\n",
    "\n",
    "import ctypes\n",
    "\n",
    "class Array:\n",
    "    '''Implements the Array ADT with the ctypes module.'''\n",
    "    \n",
    "    def __init__(self, size):\n",
    "        '''\n",
    "        Creates a one-dimensional array consisting of *size* elements \n",
    "        with each element initially set to None. *size* must be greater than zero.\n",
    "    \n",
    "        '''        \n",
    "        assert size > 0, \"Array size must be > 0\"\n",
    "        self._size = size\n",
    "        \n",
    "        # create the array \n",
    "        DSA_ArrayType = ctypes.py_object * size\n",
    "        self._elements = DSA_ArrayType()\n",
    "        \n",
    "        # initialize each element with None\n",
    "        self.clear(None)\n",
    "        \n",
    "    def __len__(self):\n",
    "        '''\n",
    "        Returns the length or number of elements in the array.\n",
    "        '''    \n",
    "        return self._size\n",
    "   \n",
    "    def __getitem__(self, index):\n",
    "        '''\n",
    "        Returns the value stored in the array at element position *index*. \n",
    "        The *index* argument must be within the valid range. Accessed using the subscript operator.\n",
    "        '''\n",
    "        assert index >= 0 and index < len(self), \"Array subscript out of range\"\n",
    "        return self._elements[index]\n",
    "    \n",
    "    def __setitem__(self, index, value):\n",
    "        '''\n",
    "        Modifies the contents of the array element at position *index* to contain *value*. \n",
    "        The index must be within the valid range. Accessed using the subscript operator.\n",
    "        '''\n",
    "        assert index >= 0 and index < len(self), \"Array subscript out of range\"\n",
    "        self._elements[index] = value\n",
    "    \n",
    "    def clear(self, value):\n",
    "        '''\n",
    "        Clears the array by setting every element to *value*.\n",
    "        '''\n",
    "        for i in range(len(self)):\n",
    "            self._elements[i] = value\n",
    "    \n",
    "    def __iter__(self):\n",
    "        '''\n",
    "        Returns the array's iterator for traversing the elements.\n",
    "        '''\n",
    "        return _ArrayIterator(self._elements)\n",
    "\n",
    "class _ArrayIterator:\n",
    "    '''An iterator for the Array ADT.'''\n",
    "    def __init__(self, theArray):\n",
    "        self._arrayRef = theArray\n",
    "        self._curNdx = 0\n",
    "        \n",
    "    def __iter__(self):\n",
    "        return self\n",
    "    \n",
    "    def __next__(self):\n",
    "        if self._curNdx < len(self._arrayRef):\n",
    "            entry = self._arrayRef[self._curNdx]\n",
    "            self._curNdx += 1\n",
    "            return entry\n",
    "        else:\n",
    "            raise StopIteration\n",
    "            "
   ]
  },
  {
   "cell_type": "markdown",
   "metadata": {},
   "source": [
    "Now, let us test the ctypes based implementation using the sample client program in Listing 2.1."
   ]
  },
  {
   "cell_type": "code",
   "execution_count": 2,
   "metadata": {
    "collapsed": false
   },
   "outputs": [
    {
     "name": "stdout",
     "output_type": "stream",
     "text": [
      "0.14463259921204785\n",
      "0.7033633863297051\n",
      "0.3832845281395906\n",
      "0.14736420703179431\n",
      "0.338594407133336\n",
      "0.7757901637251546\n",
      "0.889968033969156\n",
      "0.09545458079166025\n",
      "0.1762026668925516\n",
      "0.2622084148533129\n"
     ]
    }
   ],
   "source": [
    "import random\n",
    "\n",
    "# create an array size 10\n",
    "floatArray = Array( 10 )\n",
    "\n",
    "# fill in the array with random floating-point values.\n",
    "for i in range( len(floatArray) ):\n",
    "    floatArray[i] = random.random()\n",
    "\n",
    "# print the values, one per line.\n",
    "for value in floatArray:\n",
    "    print( value )"
   ]
  },
  {
   "cell_type": "markdown",
   "metadata": {},
   "source": [
    "<hr>\n",
    "### Question 2.2 [2 marks]\n",
    "Describe the following block of code. \n",
    "You may need to refer to the Python Standard Library documentation for the *ctypes* module (https://docs.python.org/3/library/ctypes.html).\n",
    "\n",
    "```python\n",
    "        # create the array \n",
    "        DSA_ArrayType = ctypes.py_object * size\n",
    "        self._elements = DSA_ArrayType()\n",
    "```"
   ]
  },
  {
   "cell_type": "markdown",
   "metadata": {},
   "source": [
    "### Answer 2.2: \n",
    "\n",
    "\n",
    "This generally used to create the array of elements using the ctypes in the python.\n",
    "\n",
    "The ``` DSA_ArrayType ``` is a data structure of the type array. The ``` ctypes.py_object ``` represents the datatype of C PyObject. So calling this class without an argument creates a ``` NULL PyObject * pointer ```. As this is multuplied with the size it returns or saves the ``` ctypes_py.object ``` of the given size to the data structure of array type. The last line ``` self._elements ``` defines the array data type to be assigned to the self elements as initialised.\n",
    "\n",
    "\n",
    "\n",
    "<hr>"
   ]
  },
  {
   "cell_type": "markdown",
   "metadata": {},
   "source": [
    "<hr>\n",
    "### Question 2.3 [4 marks]\n",
    "\n",
    "The Python implementation for the Array ADT in Listing 2.2 makes use of many \"special methods\" (e.g. $__init__$, $__len__$).<br> \n",
    "List all *special methods* in Listing 2.2 and describe when these methods are called by Python.\n"
   ]
  },
  {
   "cell_type": "markdown",
   "metadata": {},
   "source": [
    "### Answer 2.3: \n",
    "\n",
    "\n",
    "$__init__$ gets passed whatever the primary constructor was called.\n",
    "\n",
    "$__len__$ returns the length of the container.\n",
    "\n",
    "$__getitem__$ defines behavior for when an item is accessed.\n",
    "\n",
    "$__setitem__$ defines behavior for when an item is assigned.\n",
    "\n",
    "$__iter__$ should return an iterator for the container.\n",
    "\n",
    "$__next__$ retrieve the next value from an iterator.\n",
    "\n",
    "\n",
    "\n",
    "<hr>"
   ]
  },
  {
   "cell_type": "markdown",
   "metadata": {},
   "source": [
    "<hr>\n",
    "### Question 2.4 [6 marks] (Programming exercise)\n",
    "\n",
    "Write a client program that use the *Array* ADT to count the number of lowercase and uppercase letters in an input text file (formatted in an ASCII encoding). Use the text file \"grimm_fairytales.txt\" provided within your lab package files to test your program. \n",
    "\n",
    "#### Hint: \n",
    "* You might want to use the following Python built-in functions.\n",
    "   * chr() https://docs.python.org/3/library/functions.html#chr\n",
    "   * ord() https://docs.python.org/3/library/functions.html#ord\n",
    "\n",
    "\n",
    "* With \"grimm_fairytales.txt\" as an input text file, your program should print countings of letters like this.\n",
    "\n",
    "<img src=\"figs/q0204_result.png\" width=\"280px\" height=\"200px\" />\n"
   ]
  },
  {
   "cell_type": "code",
   "execution_count": 7,
   "metadata": {
    "collapsed": false
   },
   "outputs": [
    {
     "name": "stdout",
     "output_type": "stream",
     "text": [
      "A -   840 \t a - 33465\n",
      "B -   383 \t b -  5611\n",
      "C -   253 \t c -  7534\n",
      "D -   234 \t d - 21412\n",
      "E -   533 \t e - 52406\n",
      "F -   240 \t f -  7967\n",
      "G -   417 \t g -  8653\n",
      "H -   704 \t h - 31947\n",
      "I -  1586 \t i - 23254\n",
      "J -    69 \t j -   376\n",
      "K -    85 \t k -  4162\n",
      "L -   317 \t l - 16946\n",
      "M -   232 \t m -  8607\n",
      "N -   441 \t n - 27510\n",
      "O -   377 \t o - 30708\n",
      "P -   211 \t p -  5175\n",
      "Q -    11 \t q -   285\n",
      "R -   346 \t r - 21202\n",
      "S -   658 \t s - 22374\n",
      "T -  1824 \t t - 37754\n",
      "U -   115 \t u - 10842\n",
      "V -    48 \t v -  3215\n",
      "W -   657 \t w - 11598\n",
      "X -     8 \t x -   302\n",
      "Y -   194 \t y -  7543\n",
      "Z -     2 \t z -   144\n"
     ]
    }
   ],
   "source": [
    "### Answer 2.4 (Put your code here)\n",
    "\n",
    "txt = open(\"grimm_fairytales.txt\", 'r')\n",
    "Counter = Array(52)\n",
    "Counter.clear(0)\n",
    "for line in txt:\n",
    "    for char in line:\n",
    "        if char > '@' and char < '[':\n",
    "            Counter[ord(char)-65] += 1\n",
    "        if char > '`' and char < '{':\n",
    "            Counter[ord(char)-71] += 1\n",
    "txt.close()\n",
    "for i in range(26):\n",
    "    print(chr(i + 65), '-', format(Counter[i], '5'), \"\\t\", chr(i + 97), '-', format(Counter[i + 26] , '5'))\n"
   ]
  },
  {
   "cell_type": "markdown",
   "metadata": {
    "collapsed": true
   },
   "source": [
    "<hr>"
   ]
  },
  {
   "cell_type": "markdown",
   "metadata": {},
   "source": [
    "## Two-Dimensional Arrays\n",
    "\n",
    "In this section, we will use the Array ADT to construct a two-dimensional array datatype. The 2-D array, as illustrated in Figure 2.2, organizes data into rows and columns similar to a table. The individual elements can be accessed by specifying two indices, one for the row and one for the column, $[i, j]$. For example, to access the 3rd element of the 2nd row of the 2-D array in Figure 2.2, one writes $Y[1][2]$."
   ]
  },
  {
   "cell_type": "markdown",
   "metadata": {},
   "source": [
    "<center>![Array Structure](figs/0202.png)\n",
    "**Figure 2.2 A two-dimensional array.**</center>"
   ]
  },
  {
   "cell_type": "markdown",
   "metadata": {},
   "source": [
    "## Defining the Array2D Abstract Data Type\n",
    "\n",
    "### Array2D ADT interface\n",
    "A *two-dimensional array* consists of a collection of elements organized into rows and columns. Individual elements are referenced by specifying the specific row and column indices $(r, c)$, both of which start at 0.\n",
    "\n",
    "* **Array2D( nrows, ncols )** <br>\n",
    "&emsp;&emsp;Creates a two-dimensional array organized into rows and columns. The nrows and ncols arguments indicate the size of the table. Each element of the table is initialized to *None*.\n",
    "\n",
    "* **numRows( )** <br>\n",
    "&emsp;&emsp;Returns the number of rows in the 2-D array.\n",
    "\n",
    "* **numCols( )** <br>\n",
    "&emsp;&emsp;Returns the number of columns in the 2-D array.\n",
    "\n",
    "* **clear( value )** <br>\n",
    "&emsp;&emsp;Clears the array by setting every element to *value*.\n",
    "\n",
    "* **getitem( r, c )** <br>\n",
    "&emsp;&emsp;Returns the value stored in the 2-D array at element position indicated by *(r, c)*. Both *r* and *c* must be within the valid range. Accessed using the subscript operator: $y = x[1, 2]$.\n",
    "\n",
    "* **setitem( r, c , value )** <br>\n",
    "&emsp;&emsp;Modifies the contents of the 2-D array element at position indicated by *(r, c)* to contain *value*. The index must be within the valid range. Accessed using the subscript operator: $x[0, 3] = y$."
   ]
  },
  {
   "cell_type": "markdown",
   "metadata": {},
   "source": [
    "## Using the Array2D ADT\n",
    "\n",
    "The following program illustrates the creation and the usage of the 2-D object based on the Array2D ADT.\n",
    "\n",
    "```python\n",
    "# Listing 2.3\n",
    "import random\n",
    "\n",
    "# create a 2-D array consisting of 5 rows and 5 columns\n",
    "g = Array2D( 5, 5 )\n",
    "\n",
    "# fill in the array with random floating-point values.\n",
    "for i in range( g.numRows() ):\n",
    "    for j in range( g.numCols() ):\n",
    "        g[i, j] = random.random()\n",
    "\n",
    "# print the values, one per line.\n",
    "for i in range( g.numRows() ):\n",
    "    for j in range( g.numCols() ):\n",
    "        print(\"{0:.4f}\\t\".format(g[i,j]), end=\"\")\n",
    "    print()\n",
    "```"
   ]
  },
  {
   "cell_type": "markdown",
   "metadata": {},
   "source": [
    "## Implementing the Array2D\n",
    "The implementation of the Array2D ADT using the Array ADT is provided in Listing 2.4."
   ]
  },
  {
   "cell_type": "code",
   "execution_count": 3,
   "metadata": {
    "collapsed": false
   },
   "outputs": [],
   "source": [
    "# Listing 2.4\n",
    "\n",
    "class Array2D:\n",
    "    '''Implements a 2-D array ADT'''\n",
    "    def __init__(self, nrows, ncols):\n",
    "        '''\n",
    "        Creates a two-dimensional array organized into rows and columns. \n",
    "        The *nrows* and *ncols* arguments indicate the size of the table. \n",
    "        Each element of the table is initialized to *None*.\n",
    "        '''\n",
    "        \n",
    "        # Create a 1-D array to store an array reference for each row.        \n",
    "        self._theRows = Array( nrows )\n",
    "        \n",
    "        # Create the 1-D arrays for each row of the 2-D array.\n",
    "        for i in range( nrows ):\n",
    "            self._theRows[i] = Array( ncols )\n",
    "            \n",
    "    def numRows(self):\n",
    "        '''\n",
    "        Returns the number of rows in the 2-D array.\n",
    "        '''\n",
    "        return len( self._theRows )\n",
    "    \n",
    "    def numCols(self):\n",
    "        '''\n",
    "        Returns the number of columns in the 2-D array.\n",
    "        '''\n",
    "        return len( self._theRows[0] )\n",
    "    \n",
    "    def clear(self, value):\n",
    "        '''\n",
    "        Clears the array by setting every element to *value*.\n",
    "        '''\n",
    "        for row in range( self.numRows() ):\n",
    "            self._theRows[row].clear( value )\n",
    "            \n",
    "    def __getitem__(self, ndxTuple):\n",
    "        '''\n",
    "        Returns the value stored in the 2-D array at element position indicated by *(r, c)*. \n",
    "        Both *r* and *c* must be within the valid range. \n",
    "        Accessed using the subscript operator: $y = x[1, 2]$.\n",
    "        '''\n",
    "        assert len(ndxTuple) == 2, \"Invalid number of array subscripts.\"\n",
    "        row = ndxTuple[0]\n",
    "        col = ndxTuple[1]\n",
    "        assert row >= 0 and row < self.numRows() \\\n",
    "            and col >= 0 and col < self.numCols(), \\\n",
    "            \"Array subscript out of range.\"\n",
    "        \n",
    "        the1dArray = self._theRows[row]\n",
    "        \n",
    "        return the1dArray[col]\n",
    "    \n",
    "    \n",
    "    def __setitem__(self, ndxTuple, value):\n",
    "        '''\n",
    "        Modifies the contents of the 2-D array element at position indicated by *(r, c)* to contain *value*. \n",
    "        The index must be within the valid range. Accessed using the subscript operator: $x[0, 3] = y$.\n",
    "        '''\n",
    "        assert len(ndxTuple) == 2, \"Invalid number of array subscripts.\"\n",
    "        \n",
    "        row = ndxTuple[0]\n",
    "        col = ndxTuple[1]\n",
    "        assert row >= 0 and row < self.numRows() \\\n",
    "            and col >= 0 and col < self.numCols(), \\\n",
    "            \"Array subscript out of range.\"\n",
    "\n",
    "        the1dArray = self._theRows[row]\n",
    "        the1dArray[col] = value\n",
    "        "
   ]
  },
  {
   "cell_type": "markdown",
   "metadata": {},
   "source": [
    "Now, let us test the Array2D implementation using the sample client program in Listing 2.3."
   ]
  },
  {
   "cell_type": "code",
   "execution_count": 4,
   "metadata": {
    "collapsed": false
   },
   "outputs": [
    {
     "name": "stdout",
     "output_type": "stream",
     "text": [
      "0.0178\t0.3781\t0.9543\t0.1394\t0.7505\t\n",
      "0.8361\t0.1113\t0.1798\t0.2336\t0.3996\t\n",
      "0.3522\t0.8372\t0.4606\t0.1655\t0.8034\t\n",
      "0.0712\t0.9430\t0.7743\t0.5553\t0.2588\t\n",
      "0.8774\t0.0811\t0.0487\t0.0392\t0.3818\t\n"
     ]
    }
   ],
   "source": [
    "import random\n",
    "\n",
    "# create a 2-D array consisting of 5 rows and 5 columns\n",
    "g = Array2D( 5, 5 )\n",
    "\n",
    "# fill in the array with random floating-point values.\n",
    "for i in range( g.numRows() ):\n",
    "    for j in range( g.numCols() ):\n",
    "        g[i, j] = random.random()\n",
    "\n",
    "# print the values, one per line.\n",
    "for i in range( g.numRows() ):\n",
    "    for j in range( g.numCols() ):\n",
    "        print(\"{0:.4f}\\t\".format(g[i,j]), end=\"\")\n",
    "    print()"
   ]
  },
  {
   "cell_type": "markdown",
   "metadata": {
    "collapsed": true
   },
   "source": [
    "<hr>\n",
    "## Programming Quiz 2 [10 marks]\n",
    "\n",
    "### Implementing the Matrix ADT \n",
    "\n",
    "Write a Python program for a matrix class that can *add*, *subtract*, *multiply* two-dimensional arrays of numbers.<br>\n",
    "Your program must check that the dimensions agree appropriately for the operation.\n",
    "\n",
    "The specification of the Matrix ADT and a test function are provided below."
   ]
  },
  {
   "cell_type": "markdown",
   "metadata": {},
   "source": [
    "\n",
    "#### Matrix ADT interface\n",
    "A *matrix* is a collection of scalar values arranged in rows and columns as a rectangular grid of a fixed size. The elements of the matrix can be accessed by specifying a given row and column index with indices starting at 0.\n",
    "\n",
    "* **Matrix( nrows, ncols )** <br>\n",
    "&emsp;&emsp;Creates a new matrix containing *nrows* and *ncols* with each element initialized to 0.\n",
    "\n",
    "* **numRows( )** <br>\n",
    "&emsp;&emsp;Returns the number of rows in the matrix.\n",
    "\n",
    "* **numCols( )** <br>\n",
    "&emsp;&emsp;Returns the number of columns in the matrix.\n",
    "\n",
    "* **getitem( r, c )** <br>\n",
    "&emsp;&emsp;Returns the value stored in the matrix at element position indicated by *(r, c)*. Both *r* and *c* must be within the valid range. \n",
    "\n",
    "* **setitem( r, c , value )** <br>\n",
    "&emsp;&emsp;Modifies the contents of the matrix element at position indicated by *(r, c)* to contain *value*. The index must be within the valid range.\n",
    "\n",
    "* **add( rhsMatrix )** <br>\n",
    "&emsp;&emsp;Creates and returns a new matrix that is the result of adding this matrix to the given *rhsMatrix*. The size of the two matrices must be the same.\n",
    "\n",
    "* **subtract( rhsMatrix )** <br>\n",
    "&emsp;&emsp;Creates and returns a new matrix that is the result of subtracting *rhsMatrix* from this matrix. The size of the two matrices must be the same.\n",
    "\n",
    "* **multiply( rhsMatrix )** <br>\n",
    "&emsp;&emsp;Creates and returns a new matrix that is the result of multiplying *rhsMatrix* to this matrix. The two matrices must be of appropriate sizes as defined for matrix multiplication.\n"
   ]
  },
  {
   "cell_type": "code",
   "execution_count": 5,
   "metadata": {
    "collapsed": false
   },
   "outputs": [
    {
     "name": "stdout",
     "output_type": "stream",
     "text": [
      "A = \n",
      "  0  1\n",
      "  2  3\n",
      "  4  5\n",
      "\n",
      "B = \n",
      "  6  7\n",
      "  8  9\n",
      "  1  0\n",
      "\n",
      "-----------------------------\n",
      "A + B =\n",
      "  6  8\n",
      " 10 12\n",
      "  5  5\n",
      "\n",
      "B + A =\n",
      "  6  8\n",
      " 10 12\n",
      "  5  5\n",
      "\n",
      "-----------------------------\n",
      "A - B =\n",
      " -6 -6\n",
      " -6 -6\n",
      "  3  5\n",
      "\n",
      "B - A =\n",
      "  6  6\n",
      "  6  6\n",
      " -3 -5\n",
      "\n",
      "-----------------------------\n",
      "A = \n",
      "  0  1\n",
      "  2  3\n",
      "  4  5\n",
      "\n",
      "C =\n",
      "  6  7  8\n",
      "  9  1  0\n",
      "\n",
      "A * C =\n",
      "  9  1  0\n",
      " 39 17 16\n",
      " 69 33 32\n",
      "\n",
      "C * A =\n",
      " 46 67\n",
      "  2 12\n",
      "\n"
     ]
    }
   ],
   "source": [
    "def testMatrix():\n",
    "    A = Matrix(3, 2)\n",
    "    A[0,0] = 0\n",
    "    A[0,1] = 1\n",
    "    A[1,0] = 2\n",
    "    A[1,1] = 3\n",
    "    A[2,0] = 4\n",
    "    A[2,1] = 5\n",
    "    print(\"A = \")\n",
    "    print(A)\n",
    "    \n",
    "    B = Matrix(3, 2)\n",
    "    B[0,0] = 6\n",
    "    B[0,1] = 7\n",
    "    B[1,0] = 8\n",
    "    B[1,1] = 9\n",
    "    B[2,0] = 1\n",
    "    B[2,1] = 0\n",
    "    print(\"B = \")\n",
    "    print(B)\n",
    "\n",
    "    print(\"-----------------------------\")\n",
    "    \n",
    "    print(\"A + B =\")\n",
    "    print(A + B)\n",
    "\n",
    "    print(\"B + A =\")\n",
    "    print(B + A)\n",
    "\n",
    "    print(\"-----------------------------\")\n",
    "\n",
    "    print(\"A - B =\")\n",
    "    print(A - B)\n",
    "\n",
    "    print(\"B - A =\")\n",
    "    print(B - A)\n",
    "\n",
    "    print(\"-----------------------------\")\n",
    "\n",
    "    print(\"A = \")\n",
    "    print(A)\n",
    "\n",
    "    C = Matrix(2, 3)\n",
    "    C[0,0] = 6\n",
    "    C[0,1] = 7\n",
    "    C[0,2] = 8\n",
    "    C[1,0] = 9\n",
    "    C[1,1] = 1\n",
    "    C[1,2] = 0\n",
    "    print(\"C =\")\n",
    "    print(C)\n",
    "\n",
    "    print(\"A * C =\")\n",
    "    print(A * C)\n",
    "\n",
    "    print(\"C * A =\")\n",
    "    print(C * A)\n",
    "\n",
    "testMatrix()"
   ]
  },
  {
   "cell_type": "code",
   "execution_count": 6,
   "metadata": {
    "collapsed": true
   },
   "outputs": [],
   "source": [
    "### TODO Put your code for Matrix ADT here\n",
    "\n",
    "class Matrix: \n",
    "    def __init__(self, nrows, ncols): \n",
    "        self.rows = nrows \n",
    "        self.cols = ncols \n",
    "        self.matrix = Array2D(nrows, ncols) \n",
    "        self.matrix.clear(0) \n",
    "    def numRows(self): \n",
    "        return self.rows \n",
    "    def numCols(self): \n",
    "        return self.cols \n",
    "    def __getitem__(self, r): \n",
    "        return self.matrix[r] \n",
    "    def __setitem__(self, r, value): \n",
    "        self.matrix[r] = value\n",
    "    def __add__(self, rhsMatrix): \n",
    "        assert (self.rows == rhsMatrix.numRows() and self.cols == rhsMatrix.numCols()) \n",
    "        result = Matrix(self.rows, self.cols) \n",
    "        for i in range(self.rows): \n",
    "            for j in range(self.cols): \n",
    "                result[i, j] = self.matrix[i, j] + rhsMatrix[i, j] \n",
    "        return result \n",
    "    def __sub__(self, rhsMatrix): \n",
    "        assert (self.rows == rhsMatrix.numRows() and self.cols == rhsMatrix.numCols()) \n",
    "        result = Matrix(self.rows, self.cols) \n",
    "        for i in range(self.rows): \n",
    "            for j in range(self.cols): \n",
    "                result[i, j] = self.matrix[i, j] - rhsMatrix[i, j] \n",
    "        return result\n",
    "    def __mul__(self, rhsMatrix): \n",
    "        assert (self.cols == rhsMatrix.numRows()) \n",
    "        result = Matrix(self.rows, rhsMatrix.numCols()) \n",
    "        for i in range(self.rows): \n",
    "            for j in range(rhsMatrix.numCols()): \n",
    "                for k in range(rhsMatrix.numRows()): \n",
    "                    result[i, j] += self.matrix[i, k] * rhsMatrix[k, j] \n",
    "        return result \n",
    "    def __str__(rhsMatrix): \n",
    "        result = \"\" \n",
    "        for i in range(rhsMatrix.numRows()): \n",
    "            for j in range(rhsMatrix.numCols()): \n",
    "                result += str(format(rhsMatrix[i, j], '3'))\n",
    "            result += \"\\n\" \n",
    "        return result"
   ]
  },
  {
   "cell_type": "code",
   "execution_count": null,
   "metadata": {
    "collapsed": true
   },
   "outputs": [],
   "source": []
  }
 ],
 "metadata": {
  "anaconda-cloud": {},
  "kernelspec": {
   "display_name": "Python [dsalab]",
   "language": "python",
   "name": "Python [dsalab]"
  },
  "language_info": {
   "codemirror_mode": {
    "name": "ipython",
    "version": 3
   },
   "file_extension": ".py",
   "mimetype": "text/x-python",
   "name": "python",
   "nbconvert_exporter": "python",
   "pygments_lexer": "ipython3",
   "version": "3.5.2"
  }
 },
 "nbformat": 4,
 "nbformat_minor": 0
}
