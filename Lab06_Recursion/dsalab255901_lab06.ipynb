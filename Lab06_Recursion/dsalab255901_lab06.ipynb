{
 "cells": [
  {
   "cell_type": "markdown",
   "metadata": {},
   "source": [
    "13016213 Data Structures and Algorithms Laboratory\n",
    "\n",
    "**NOTE** click here to select this cell, press Esc-Enter to enter cell edit mode, press Shift-Enter to put the cell back to display mode.\n",
    "\n",
    "#### Name: Araya Siriadun\n",
    "\n",
    "#### Student ID: 58090046\n",
    "\n",
    "Laboratory 6: Recursion\n",
    "===\n",
    "\n",
    "## Overview\n",
    "Recursion is a powerful programming and problem solving tool. \n",
    "Its main idea is to solve a problem by dividing a larger problem into smaller sub-problems and then solving the smaller, trivial cases. \n",
    "\n",
    "This laboratory intorduces recursive functions and some applications that can be solved using recursion.  "
   ]
  },
  {
   "cell_type": "markdown",
   "metadata": {},
   "source": [
    "<hr />\n",
    "## Recursive Functions\n",
    "\n",
    "A *recursive function* is a function that calls itself. For example, consider a simple recursive function *printDecrement* below. This function prints the integer values from 1 to *n* in reverse order by using a recursive function."
   ]
  },
  {
   "cell_type": "code",
   "execution_count": 13,
   "metadata": {
    "collapsed": false
   },
   "outputs": [],
   "source": [
    "def printRev(n):\n",
    "    if n>0:    \n",
    "        print(n)                \n",
    "        # makes a call to itself.\n",
    "        printRev(n-1)    "
   ]
  },
  {
   "cell_type": "markdown",
   "metadata": {},
   "source": [
    "Let us call the function with an argument of $4$:"
   ]
  },
  {
   "cell_type": "code",
   "execution_count": 1,
   "metadata": {
    "collapsed": false
   },
   "outputs": [
    {
     "data": {
      "text/plain": [
       "13"
      ]
     },
     "execution_count": 1,
     "metadata": {},
     "output_type": "execute_result"
    }
   ],
   "source": [
    "def recursive_fib(n):\n",
    "    assert n >= 0, \"Fibonacci not defined for n < 0.\"\n",
    "    if n == 1 or n == 0:\n",
    "        return 1\n",
    "    else:\n",
    "        return recursive_fib(n-1) + recursive_fib(n-2)\n",
    "\n",
    "recursive_fib(6)"
   ]
  },
  {
   "cell_type": "markdown",
   "metadata": {},
   "source": [
    "The function $printRev(4)$ begins execution at the $if$ statement in the first line. Since $4$ is greater than $0$, the body of the $if$ statement is executed. When the execution reaches the $printRev(3)$ function call, the current sequential flow is interrupted and control is transferred to the $printRev$ function instance with an $n$ argument of $3$. The function $printRev(3)$ begins execution and reaches the $printRev(2)$ function call. At this point, the sequential execution flow of $printRev(3)$ is interrupted as control is transferred to the $printRev$ function instance with an $n$ argument of $2$. The recursive calls to $printRev$ continue in this manner until the function instance $printRev(0)$ is executed. When the argument $n$ is $0$, no further recursive call is made. The function instance $printRev(0)$ reaches the end of execution and control is transferred back to the function instance $printRev(1)$. Then, the $printRev(1)$ function instance reaches the end of execution and control is transferred back to the function instance $printRev(2)$. The call stack is unwound in this manner until the execution flow is transferred back to the last line of the function instance $printRev(4)$. At this point, the function $printRev(4)$ finishes execution and the execution flow is transferred back to the function call $printRev(4)$.\n",
    "\n",
    "Execute a code snippet below to examine the sequence of recursive calls made by $printRev(4)$."
   ]
  },
  {
   "cell_type": "code",
   "execution_count": 2,
   "metadata": {
    "collapsed": false
   },
   "outputs": [
    {
     "name": "stdout",
     "output_type": "stream",
     "text": [
      "call printRev(4)\n",
      "4\n",
      "***call printRev(3)\n",
      "3\n",
      "******call printRev(2)\n",
      "2\n",
      "*********call printRev(1)\n",
      "1\n",
      "************call printRev(0)\n",
      "************returned from printRev(0)\n",
      "\n",
      "*********returned from printRev(1)\n",
      "\n",
      "******returned from printRev(2)\n",
      "\n",
      "***returned from printRev(3)\n",
      "\n",
      "returned from printRev(4)\n"
     ]
    }
   ],
   "source": [
    "def debug_printRev(n, depth=1):    \n",
    "    if n > 0:\n",
    "        \n",
    "        print(n)\n",
    "        \n",
    "        print(\"{}call printRev({})\".format(\"***\"*depth, n-1))\n",
    "        debug_printRev(n-1, depth+1)   \n",
    "        print(\"{}returned from printRev({})\\n\".format(\"***\"*depth, n-1))\n",
    "\n",
    "\n",
    "depth = 0\n",
    "n = 4\n",
    "print(\"{}call printRev({})\".format(\"***\"*depth, n))\n",
    "debug_printRev(n, depth+1)\n",
    "print(\"{}returned from printRev({})\".format(\"***\"*depth, n))\n"
   ]
  },
  {
   "cell_type": "markdown",
   "metadata": {
    "collapsed": true
   },
   "source": [
    "<hr />\n",
    "### Question 1. [1 mark]\n",
    "Write a recursive function $printInc(n)$ that prints integer values from 1 to $n$. Call your $printInc()$ function with an argument $4$."
   ]
  },
  {
   "cell_type": "code",
   "execution_count": 3,
   "metadata": {
    "collapsed": false,
    "scrolled": true
   },
   "outputs": [
    {
     "name": "stdout",
     "output_type": "stream",
     "text": [
      "1\n",
      "2\n",
      "3\n",
      "4\n"
     ]
    }
   ],
   "source": [
    "### TODO.Q1\n",
    "def printInc(n):\n",
    "    if n>0:    \n",
    "        printInc(n-1)  \n",
    "        print(n)\n",
    "printInc(4)"
   ]
  },
  {
   "cell_type": "markdown",
   "metadata": {},
   "source": [
    "### Question 2. [1 mark]\n",
    "Write a $debug\\_printInc$ function that prints a trace of recursive calls made by a call to function $printInc(4)$."
   ]
  },
  {
   "cell_type": "code",
   "execution_count": 4,
   "metadata": {
    "collapsed": false
   },
   "outputs": [
    {
     "name": "stdout",
     "output_type": "stream",
     "text": [
      "call printInc(4)\n",
      "\n",
      "***call printInc(3)\n",
      "\n",
      "******call printInc(2)\n",
      "\n",
      "*********call printInc(1)\n",
      "\n",
      "************call printInc(0)\n",
      "\n",
      "************returned from printInc(0)\n",
      "1\n",
      "*********returned from printInc(1)\n",
      "2\n",
      "******returned from printInc(2)\n",
      "3\n",
      "***returned from printInc(3)\n",
      "4\n",
      "returned from printInc(4)\n"
     ]
    }
   ],
   "source": [
    "### TODO.Q2\n",
    "def debug_printInc(n, depth = 1):    \n",
    "    if n > 0:\n",
    "        print(\"{}call printInc({})\\n\".format(\"***\" * depth, n - 1))\n",
    "        debug_printInc(n - 1, depth + 1)\n",
    "        print(\"{}returned from printInc({})\".format(\"***\" * depth, n - 1))\n",
    "        print(n)\n",
    "\n",
    "        \n",
    "depth = 0\n",
    "n = 4\n",
    "print(\"{}call printInc({})\\n\".format(\"***\" * depth, n))\n",
    "debug_printInc(n, depth + 1)\n",
    "print(\"{}returned from printInc({})\".format(\"***\" * depth, n))"
   ]
  },
  {
   "cell_type": "markdown",
   "metadata": {},
   "source": [
    "<hr />\n",
    "\n",
    "## Properties of Recursion\n",
    "All recursive solutions must satisfy three properties:\n",
    "1. A recursive solution must contain a base case.\n",
    "2. A recursive solution must contain a recursive case.\n",
    "3. A recursive solution must make progress toward the base case.\n",
    "\n",
    "Let us consider the properties of the $printRev$ function. \n",
    "The base case is the case when $n<=0$. \n",
    "The recursive case is a call to $printRev(n-1)$.\n",
    "And, the recursive case makes progress toward the base case (n==0) because it is called with a decreasing value of $n$ (i.e., $n-1$). Therefore, the $printRev$ function satisfies all properties of recursion."
   ]
  },
  {
   "cell_type": "markdown",
   "metadata": {},
   "source": [
    "### Fibonacci Sequence\n",
    "\n",
    "The Fibonacci sequence is a sequence of integer values in which the first two values are both 1 and each subsequent value is the sum of the two previous values. The first 11 terms of the sequence are:\n",
    "\n",
    "$1, 1, 2, 3, 5, 8, 13, 21, 34, 55, 89,...$\n",
    "\n",
    "The $n^{th}$ Fibonacci number can be computed by the recurrence relation (for n > 0):\n",
    "<center>\n",
    "<img src=\"figs/f1.png\" />\n",
    "</center>\n",
    "\n",
    "Based on the definition of the fibonacci number above, \n",
    "we can define a recursive function $fib(n)$ that computes the $n^{th}$ number in the Fibonacci sequence as follows."
   ]
  },
  {
   "cell_type": "code",
   "execution_count": 5,
   "metadata": {
    "collapsed": false
   },
   "outputs": [
    {
     "data": {
      "text/plain": [
       "13"
      ]
     },
     "execution_count": 5,
     "metadata": {},
     "output_type": "execute_result"
    }
   ],
   "source": [
    "def recursive_fib(n):\n",
    "    assert n >= 0, \"Fibonacci not defined for n < 0.\"\n",
    "    if n == 1 or n == 0:\n",
    "        return 1\n",
    "    else:\n",
    "        return recursive_fib(n-1) + recursive_fib(n-2)\n",
    "\n",
    "recursive_fib(6)"
   ]
  },
  {
   "cell_type": "markdown",
   "metadata": {},
   "source": [
    "### Question 3. [2 mark]\n",
    "Write a **non-recursive** function named $iterative\\_fib$ that computes the $n^{th}$ number in the Fibonacci sequence."
   ]
  },
  {
   "cell_type": "code",
   "execution_count": 6,
   "metadata": {
    "collapsed": false
   },
   "outputs": [],
   "source": [
    "### TODO.Q3\n",
    "def iterative_fib(n):\n",
    "    assert n >= 0, \"Fibonacci not defined for n < 0.\"\n",
    "    a, b = 1, 0\n",
    "    for _ in range(n + 1):\n",
    "        a, b = b, a + b\n",
    "    return b"
   ]
  },
  {
   "cell_type": "markdown",
   "metadata": {},
   "source": [
    "### Question 4. [2 mark]\n",
    "Write a $debug\\_recursive\\_fib$ function that prints a trace of recursive calls made by a call to $recursive\\_fib(6)$. \n",
    "\n",
    "When your $debug\\_recursive\\_fib(6)$ function is called, it must print out  a trace similar to the one as shown below. Each line of the trace represents a function call at depth **d$l$** with an argument **$n$**.\n",
    "\n",
    "<img src=\"figs/f2.png\" />"
   ]
  },
  {
   "cell_type": "code",
   "execution_count": 1,
   "metadata": {
    "collapsed": false
   },
   "outputs": [
    {
     "name": "stdout",
     "output_type": "stream",
     "text": [
      "d0* fib(6)\n",
      "d1----* fib(5)\n",
      "d2--------* fib(4)\n",
      "d3------------* fib(3)\n",
      "d4----------------* fib(2)\n",
      "d5--------------------* fib(1)\n",
      "d5--------------------* fib(0)\n",
      "d4----------------* fib(1)\n",
      "d3------------* fib(2)\n",
      "d4----------------* fib(1)\n",
      "d4----------------* fib(0)\n",
      "d2--------* fib(3)\n",
      "d3------------* fib(2)\n",
      "d4----------------* fib(1)\n",
      "d4----------------* fib(0)\n",
      "d3------------* fib(1)\n",
      "d1----* fib(4)\n",
      "d2--------* fib(3)\n",
      "d3------------* fib(2)\n",
      "d4----------------* fib(1)\n",
      "d4----------------* fib(0)\n",
      "d3------------* fib(1)\n",
      "d2--------* fib(2)\n",
      "d3------------* fib(1)\n",
      "d3------------* fib(0)\n"
     ]
    },
    {
     "data": {
      "text/plain": [
       "13"
      ]
     },
     "execution_count": 1,
     "metadata": {},
     "output_type": "execute_result"
    }
   ],
   "source": [
    "### TODO.Q4\n",
    "def debug_recursive_fib(n, depth = 0):\n",
    "    assert n >= 0, \"Fibonacci not defined for n < 0.\"\n",
    "    print(\"d{}{}* fib({})\".format(depth, \"----\" * depth, n))\n",
    "    if n == 1 or n == 0:\n",
    "        return 1\n",
    "    else:\n",
    "        return debug_recursive_fib(n - 1, depth + 1) + debug_recursive_fib(n - 2, depth + 1)\n",
    "    \n",
    "debug_recursive_fib(6)"
   ]
  },
  {
   "cell_type": "markdown",
   "metadata": {},
   "source": [
    "### Question 5. [1 mark]\n",
    "Compare the runtime performance of the two fibonacci functions: $iterative\\_fib$ and $recursive\\_fib$.  Which version of the fibonacci function is more efficient ? Why ?"
   ]
  },
  {
   "cell_type": "code",
   "execution_count": 8,
   "metadata": {
    "collapsed": true
   },
   "outputs": [],
   "source": [
    "### TODO.Q5\n",
    "# iterative_fib is more efficient than recursive_fib\n",
    "# because O(n) < O(2^n)"
   ]
  },
  {
   "cell_type": "markdown",
   "metadata": {},
   "source": [
    "<hr />\n",
    "## Towers of Hanoi\n",
    "The Towers of Hanoi puzzle, invented by the French mathematician Edouard Lucas in 1883, consists of a board with three vertical pegs and a stack of disks. The diameter of the disks increases as we progress from the top to bottom, creating a tower structure. The illustration in Figure 1 shows a configuration of the puzzle, the three towers, and five disks. Any number of disks can be used with the puzzle, but we use five for ease of illustration.\n",
    "<br /><br />\n",
    "\n",
    "<center>\n",
    "<img src=\"figs/tower.png\"/>\n",
    "</center>\n",
    "\n",
    "<br />\n",
    "The objective is to move all of the disks from the starting pole to one of the other two poles to create a new tower. There are, however, two restrictions: \n",
    "1. only one disk can be moved at a time, and \n",
    "2. a larger disk can never be placed on top of a smaller disk.\n",
    "\n",
    "The Towers of Hanoi can be easily solved by recursion. Given $n$ disks and three pegs labeled source (S), destination (D), and intermediate (I), we can define the recursive solution for the puzzle as:\n",
    "\n",
    "* Move the top n - 1 disks from pole S to pole I using pole D.\n",
    "* Move the remaining disk from pole S to pole D.\n",
    "* Move the n - 1 disks from pole I to pole D using pole S.\n",
    "\n",
    "Execute the code snippet below to see a demonstration of the Towers of Hanoi puzzle."
   ]
  },
  {
   "cell_type": "code",
   "execution_count": null,
   "metadata": {
    "collapsed": true
   },
   "outputs": [],
   "source": [
    "\"\"\"\n",
    "A revised version by K. Somboonviwat.\n",
    "This version is made for \"Data Structures and Algorithms\" course, \n",
    "International College, KMITL\n",
    "\"\"\"\n",
    "\n",
    "\"\"\"       turtle-example-suite:\n",
    "\n",
    "         tdemo_minimal_hanoi.py\n",
    "\n",
    "A minimal 'Towers of Hanoi' animation:\n",
    "A tower of n discs is transferred from the\n",
    "left to the right peg.\n",
    "\n",
    "An imho quite elegant and concise\n",
    "implementation using a tower class, which\n",
    "is derived from the built-in type list.\n",
    "\n",
    "Discs are turtles with shape \"square\", but\n",
    "stretched to rectangles by shapesize()\n",
    " ---------------------------------------\n",
    "       To exit press STOP button\n",
    " ---------------------------------------\n",
    "\"\"\"\n",
    "import sys\n",
    "\n",
    "from turtle import *\n",
    "\n",
    "class Disc(Turtle):\n",
    "    def __init__(self, n, numDisc):\n",
    "        Turtle.__init__(self, shape=\"square\", visible=False)\n",
    "        self.pu()\n",
    "        self.shapesize(1.5, n*1.5, 2) # square-->rectangle\n",
    "        self.fillcolor(n*1.0/numDisc, 0, 1-n*1.0/numDisc)\n",
    "        self.st()\n",
    "\n",
    "class Tower(Turtle, list):\n",
    "    \"Hanoi tower, a subclass of built-in type list\"\n",
    "    def __init__(self, x, peg_number):\n",
    "        \"create an empty tower. x is x-position of peg\"\n",
    "        Turtle.__init__(self, shape=\"square\", visible=True)\n",
    "        self.pu()\n",
    "        self.shapesize(16, 0.5, 1.) # square-->rectangle\n",
    "        self.fillcolor(\"grey\")\n",
    "        self.st()\n",
    "        self.x = x\n",
    "        self.peg_number = peg_number\n",
    "        self.setx(self.x)\n",
    "    def push(self, d):\n",
    "        d.setx(self.x)\n",
    "        d.sety(-150+34*len(self))\n",
    "        self.append(d)\n",
    "    def pop(self):\n",
    "        d = list.pop(self)\n",
    "        d.sety(150)\n",
    "        return d\n",
    "    def __str__(self):\n",
    "        return str(self.peg_number)\n",
    "\n",
    "def hanoi(n, from_, with_, to_, depth=0):\n",
    "    if n > 0:\n",
    "        hanoi(n-1, from_, to_, with_, depth+1)\n",
    "        print(\"d%d%s* Move from %s to %s\" % (depth, \"------\"*depth, from_, to_))\n",
    "        to_.push(from_.pop())\n",
    "        hanoi(n-1, with_, from_, to_, depth+1)\n",
    "\n",
    "def play():\n",
    "    onkey(None,\"space\")\n",
    "    clear()\n",
    "    hanoi(numDisc, t1, t2, t3)\n",
    "    write(\"press STOP button to exit\",\n",
    "          align=\"center\", font=(\"Courier\", 16, \"bold\"))\n",
    "\n",
    "def main(_numDisc):\n",
    "    setup(width=.6, height=0.6, startx=None, starty=None)\n",
    "    global t1, t2, t3, numDisc\n",
    "    ht(); penup(); goto(0, -225)   # writer turtle\n",
    "\n",
    "    t1 = Tower(-250, 1)\n",
    "    t2 = Tower(0, 2)\n",
    "    t3 = Tower(250, 3)\n",
    "\n",
    "    numDisc = _numDisc\n",
    "\n",
    "    # make tower of n discs\n",
    "    for i in range(numDisc,0,-1):\n",
    "        t1.push(Disc(i, numDisc))\n",
    "\n",
    "    # prepare spartanic user interface ;-)\n",
    "    write(\"press spacebar to start game\",\n",
    "          align=\"center\", font=(\"Courier\", 16, \"bold\"))\n",
    "\n",
    "    onkey(play, \"space\")\n",
    "    listen()\n",
    "    return \"EVENTLOOP\"\n",
    "\n",
    "\n",
    "numDisc = 5\n",
    "msg = main(numDisc)\n",
    "print(msg)\n",
    "mainloop()\n"
   ]
  },
  {
   "cell_type": "markdown",
   "metadata": {},
   "source": [
    "### Question 6. [1 mark]\n",
    "What is the worst-case running time of the recursive solution to the Towers of Hanoi problem provided above ?"
   ]
  },
  {
   "cell_type": "code",
   "execution_count": 9,
   "metadata": {
    "collapsed": true
   },
   "outputs": [],
   "source": [
    "### TODO.Q6\n",
    "\n",
    "# O(2^n)"
   ]
  },
  {
   "cell_type": "markdown",
   "metadata": {},
   "source": [
    "<hr />\n",
    "## Exercises\n"
   ]
  },
  {
   "cell_type": "markdown",
   "metadata": {},
   "source": [
    "### Exercise 1 [3 mark]. \n",
    "The factorial of a positive integer n, denoted $n!$, is defined as the product of the integers from 1 to n. If n = 0, then $n!$ is defined as 1 by convention. More formally, for any integer n ≥ 0, \n",
    "\n",
    "<img src=\"figs/fact.jpg\" />\n",
    "\n",
    "(a) Write a recursive function to compute the value of the factorial function.<br />\n",
    "(b) Design and implement an iterative version of the factorial function. <br />\n",
    "(c) Classify the runtime performance of your recursive and iterative factorial functions. "
   ]
  },
  {
   "cell_type": "code",
   "execution_count": 10,
   "metadata": {
    "collapsed": false
   },
   "outputs": [],
   "source": [
    "### TODO.Ex1\n",
    "\n",
    "# (a)\n",
    "def recursive_fac(n): # (c) O(n)\n",
    "    assert n >= 0, \"Factorial not defined for n < 0.\"\n",
    "    if n == 0:\n",
    "        return 1\n",
    "    return n * recursive_fac(n - 1)\n",
    "\n",
    "# (b)\n",
    "def iterative_fac(n): # (c) O(n)\n",
    "    assert n >= 0, \"Factorial not defined for n < 0.\"\n",
    "    result = 1\n",
    "    for i in range(1, n + 1):\n",
    "        result *= i\n",
    "    return result"
   ]
  },
  {
   "cell_type": "markdown",
   "metadata": {},
   "source": [
    "### Exercise 2 [4 mark]. \n",
    "\n",
    "Design and implement a program that prints Pascal's triangle:\n",
    "\n",
    "<img src=\"figs/pascal.png\" />\n",
    "\n",
    "using a recursive implementation of the binomial coefficient function:\n",
    "\n",
    "<img src=\"figs/recursive_binomial.svg\" />\n",
    "\n",
    "The boundary values of the binomial coefficient function is:\n",
    "<img src=\"figs/binomial_bound.svg\" />"
   ]
  },
  {
   "cell_type": "code",
   "execution_count": 7,
   "metadata": {
    "collapsed": false
   },
   "outputs": [
    {
     "name": "stdout",
     "output_type": "stream",
     "text": [
      "                                                           1                                                           \n",
      "                                                        1     1                                                        \n",
      "                                                     1     2     1                                                     \n",
      "                                                  1     3     3     1                                                  \n",
      "                                               1     4     6     4     1                                               \n",
      "                                            1     5     10    10    5     1                                            \n",
      "                                         1     6     15    20    15    6     1                                         \n",
      "                                      1     7     21    35    35    21    7     1                                      \n",
      "                                   1     8     28    56    70    56    28    8     1                                   \n",
      "                                1     9     36    84   126   126    84    36    9     1                                \n",
      "                             1     10    45   120   210   252   210   120    45    10    1                             \n",
      "                          1     11    55   165   330   462   462   330   165    55    11    1                          \n",
      "                       1     12    66   220   495   792   924   792   495   220    66    12    1                       \n",
      "                    1     13    78   286   715   1287  1716  1716  1287  715   286    78    13    1                    \n",
      "                 1     14    91   364   1001  2002  3003  3432  3003  2002  1001  364    91    14    1                 \n",
      "              1     15   105   455   1365  3003  5005  6435  6435  5005  3003  1365  455   105    15    1              \n",
      "           1     16   120   560   1820  4368  8008 11440 12870 11440  8008  4368  1820  560   120    16    1           \n",
      "        1     17   136   680   2380  6188 12376 19448 24310 24310 19448 12376  6188  2380  680   136    17    1        \n",
      "     1     18   153   816   3060  8568 18564 31824 43758 48620 43758 31824 18564  8568  3060  816   153    18    1     \n",
      "  1     19   171   969   3876 11628 27132 50388 75582 92378 92378 75582 50388 27132 11628  3876  969   171    19    1  \n"
     ]
    }
   ],
   "source": [
    "### TODO.Ex2\n",
    "\n",
    "def binomial_coefficient(n, k):\n",
    "    if k == 0 or k == n:\n",
    "        assert n >= 0, \"Binomial coefficient not defined for n < 0.\"\n",
    "        return 1\n",
    "    assert 1 <= k <= n - 1, \"Binomial coefficient not defined for 1 > k > n - 1.\"\n",
    "    return binomial_coefficient(n - 1, k - 1) + binomial_coefficient(n - 1, k)\n",
    "    \n",
    "def print_Pascal_triangle(row):\n",
    "    triangle = [[] for _ in range(row)]\n",
    "    for i in range(row):\n",
    "        for j in range(i + 1):\n",
    "            triangle[i] += [binomial_coefficient(i, j)]\n",
    "    lenMaxCoeff = len(str(triangle[-1][len(triangle[-1]) // 2]))\n",
    "    lenBase = len(' '.join([str(coefficient).center(lenMaxCoeff) for coefficient in triangle[-1]]))\n",
    "    for row in triangle:\n",
    "        print(' '.join([str(coefficient).center(lenMaxCoeff) for coefficient in row]).center(lenBase))\n",
    "        \n",
    "print_Pascal_triangle(20)"
   ]
  },
  {
   "cell_type": "markdown",
   "metadata": {},
   "source": [
    "### Exercise 3 [3 marks]\n",
    "Write a recursive function for computing the cumulative disk space usage nested at a specified file system path. You may want to use functions provided in the $os$ module of the Python Standard Library."
   ]
  },
  {
   "cell_type": "code",
   "execution_count": 12,
   "metadata": {
    "collapsed": false
   },
   "outputs": [],
   "source": [
    "### TODO.Ex3\n",
    "import os\n",
    "\n",
    "def compute_disk_usage(path):\n",
    "    total = os.path.getsize(path)\n",
    "    if os.path.isdir(path):\n",
    "        for file in os.listdir(path):\n",
    "            total += compute_disk_usage(os.path.join(path, file))\n",
    "    return total"
   ]
  }
 ],
 "metadata": {
  "anaconda-cloud": {},
  "kernelspec": {
   "display_name": "Python [dsalab]",
   "language": "python",
   "name": "Python [dsalab]"
  },
  "language_info": {
   "codemirror_mode": {
    "name": "ipython",
    "version": 3
   },
   "file_extension": ".py",
   "mimetype": "text/x-python",
   "name": "python",
   "nbconvert_exporter": "python",
   "pygments_lexer": "ipython3",
   "version": "3.5.2"
  }
 },
 "nbformat": 4,
 "nbformat_minor": 0
}
