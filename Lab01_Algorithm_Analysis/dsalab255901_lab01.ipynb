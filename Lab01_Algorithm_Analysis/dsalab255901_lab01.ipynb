{
 "cells": [
  {
   "cell_type": "markdown",
   "metadata": {},
   "source": [
    "13016213 Data Structures and Algorithms Laboratory\n",
    "\n",
    "**NOTE** click here to select this cell, press Esc-Enter to enter cell edit mode, press Shift-Enter to put the cell back to display mode.\n",
    "\n",
    "#### Name: *Araya Siriadun*\n",
    "\n",
    "#### Student ID: *58090046*\n",
    "\n",
    "Laboratory 1: Algorithm Analysis\n",
    "===\n",
    "\n",
    "## Overview\n",
    "\n",
    "In this course, we are interested in the design of \"efficient\" data structures and algorithms. **Running time** is a natural measure of \"efficiency\" of algorithms -- efficient algorithmic solutions should run as fast as possible.\n",
    "\n",
    "The running time of an algorithm depends on several complicating factors. However, in general, the running time of an algorithm and data structure operation increases with the input size.\n",
    "\n",
    "In this lab, we will study how to make quantitative measurements of running time as a function of the input size.\n",
    "\n",
    "## Experimental Studies of the Running Time\n",
    "Given an implementation of an algorithm, we can measure its running time by executing it on various test inputs and recording the time spent during each executing.\n",
    "\n",
    "A simple way to record execution time in Python is to use the clock() function in the time module, as shown in the **Stopwatch** class below."
   ]
  },
  {
   "cell_type": "code",
   "execution_count": 1,
   "metadata": {
    "collapsed": false
   },
   "outputs": [],
   "source": [
    "import time\n",
    "\n",
    "class Stopwatch:\n",
    "    def __init__(self):\n",
    "        self._creationTime = time.clock()\n",
    "    def elapsedTime(self):\n",
    "        return time.clock() - self._creationTime"
   ]
  },
  {
   "cell_type": "markdown",
   "metadata": {},
   "source": [
    "Measuring elapsed time of executing a block of code can be done easily with an addition of just two lines of source code.\n",
    "* at the begining of the code block, create the Stopwatch object.\n",
    "* at the end of the code block, call the elapsedTime() method of the Stopwatch object."
   ]
  },
  {
   "cell_type": "code",
   "execution_count": 2,
   "metadata": {
    "collapsed": true
   },
   "outputs": [],
   "source": [
    "def testStopwatch():\n",
    "    N = 1000\n",
    "    total = 0.0\n",
    "    \n",
    "    # create the Stopwatch object\n",
    "    watch1 = Stopwatch()\n",
    "    \n",
    "    ### Begin of Code Block ###\n",
    "    \n",
    "    for i in range(1,N+1):\n",
    "        total += i**2\n",
    "    \n",
    "    ### End of Code Block ###\n",
    "    \n",
    "    # stop the watch! by calling elapsedTime()\n",
    "    elapsed_time = watch1.elapsedTime()\n",
    "    \n",
    "    print(\"It took {0} seconds to execute the code.\".format(elapsed_time))    "
   ]
  },
  {
   "cell_type": "code",
   "execution_count": 3,
   "metadata": {
    "collapsed": false
   },
   "outputs": [
    {
     "name": "stdout",
     "output_type": "stream",
     "text": [
      "It took 0.0004396284882681631 seconds to execute the code.\n"
     ]
    }
   ],
   "source": [
    "### TODO 1\n",
    "# 1. call the testStopwatch() function typing 'testStopwatch()'\n",
    "# 2. press 'shift-Enter' to execute the instruction\n",
    "\n",
    "testStopwatch()\n"
   ]
  },
  {
   "cell_type": "markdown",
   "metadata": {},
   "source": [
    "## Case Study: Three-Sum Problem\n",
    "\n",
    "As an example, let us use the Stopwatch class to measure the running time of a function **ThreeSum** below. The function counts the number of triples in an input array of N integers that sum to $0$. "
   ]
  },
  {
   "cell_type": "code",
   "execution_count": 4,
   "metadata": {
    "collapsed": false
   },
   "outputs": [],
   "source": [
    "def ThreeSum(A):\n",
    "    \"\"\"Count triples in A that sum to 0.\n",
    "        A    input array of integers.\n",
    "    \n",
    "    Returns:\n",
    "        cnt  count of triples that sum to 0.\n",
    "    \"\"\"\n",
    "    N = len(A)\n",
    "    cnt = 0\n",
    "    for i in range(N):\n",
    "        for j in range(i + 1, N):\n",
    "            for k in range(j + 1, N):\n",
    "                if A[i] + A[j] + A[k] == 0: \n",
    "                    cnt += 1\n",
    "                    \n",
    "    return cnt"
   ]
  },
  {
   "cell_type": "markdown",
   "metadata": {},
   "source": [
    "Let's start with a small input size of $8$ integers."
   ]
  },
  {
   "cell_type": "code",
   "execution_count": 5,
   "metadata": {
    "collapsed": false
   },
   "outputs": [
    {
     "data": {
      "text/plain": [
       "4"
      ]
     },
     "execution_count": 5,
     "metadata": {},
     "output_type": "execute_result"
    }
   ],
   "source": [
    "# define an array of 8 integers\n",
    "A = [30, -30, -20, -10, 40, 0, 10, 5]\n",
    "\n",
    "### TODO 2\n",
    "# call ThreeSum with input A \n",
    "# Press shift-Enter to see the result\n",
    "# You should see \"4\" on the Out[.] cell.\n",
    "\n",
    "ThreeSum(A)\n"
   ]
  },
  {
   "cell_type": "markdown",
   "metadata": {},
   "source": [
    "### Measuring the Running Time of ThreeSum\n",
    "\n",
    "As stated earlier, we are interested in finding the relationships between the running time of the algorithm and the input size $N$. This can be achieved by executing the algorithm over the input data of various sizes and plotting the running time against the input size.\n",
    "\n",
    "To automate our experiment, we need to write some helper functions. First, we need to be able to generate a 1-D array of $N$ random integers. "
   ]
  },
  {
   "cell_type": "code",
   "execution_count": 6,
   "metadata": {
    "collapsed": false
   },
   "outputs": [],
   "source": [
    "### TODO 3\n",
    "# Implement the function uniformInts.\n",
    "\n",
    "import random\n",
    "\n",
    "def uniformInts(N, a, b):\n",
    "    \"\"\"Generate a list of N integers selected uniformly from range [a, b]\n",
    "        N  size of the output array (i.e. the number of integers to be generated)\n",
    "        a  lower bound of the random integer\n",
    "        b  upper bound of the random integer\n",
    "    \n",
    "    Returns:\n",
    "        A  array of N integers (a <= A[i] <= b)\n",
    "    \"\"\"\n",
    "    # replace the 'pass' statement with your code\n",
    "    \n",
    "    A = []\n",
    "    for i in range(N):\n",
    "        A += [random.randint(a,b)]\n",
    "    return A"
   ]
  },
  {
   "cell_type": "markdown",
   "metadata": {},
   "source": [
    "After implementing the function *uniformInts*, test your implementation by executing code provided in the next cell."
   ]
  },
  {
   "cell_type": "code",
   "execution_count": 7,
   "metadata": {
    "collapsed": false
   },
   "outputs": [
    {
     "data": {
      "text/plain": [
       "[-618, -571, 496, 503, -111, 645, 108, -364]"
      ]
     },
     "execution_count": 7,
     "metadata": {},
     "output_type": "execute_result"
    }
   ],
   "source": [
    "### TODO 4\n",
    "#\n",
    "# Generate an array of 8 integers from -1000 to 1000\n",
    "# \n",
    "# call the uniformInts function\n",
    "# press shift-Enter to execute your code\n",
    "\n",
    "uniformInts(8,-1000,1000)\n"
   ]
  },
  {
   "cell_type": "markdown",
   "metadata": {},
   "source": [
    "Next, we implement the *timeTrial()* function that would execute and measure running time of *an instance* of the three-sum problem."
   ]
  },
  {
   "cell_type": "code",
   "execution_count": 8,
   "metadata": {
    "collapsed": true
   },
   "outputs": [],
   "source": [
    "### TODO 5\n",
    "#\n",
    "# Add stopwatch to the following function so that we can measure elapsed time \n",
    "# of executing the function ThreeSum(A)\n",
    "#\n",
    "\n",
    "def timeTrial(n):\n",
    "    \"\"\"Measure time to solve an instance three-sum problem of size n.\n",
    "        n    the problem size (i.e. the number of integers)\n",
    "    \n",
    "    Returns:\n",
    "        elasped_time    the estimated execution time of ThreeSum \n",
    "    \n",
    "    \"\"\"\n",
    "    A = uniformInts(n, -1000, 1000)\n",
    "    elapsed_time = 0\n",
    "    watch2 = Stopwatch()\n",
    "    ###\n",
    "    count = ThreeSum(A)\n",
    "    ###\n",
    "    elapsed_time = watch2.elapsedTime()\n",
    "    return elapsed_time"
   ]
  },
  {
   "cell_type": "markdown",
   "metadata": {},
   "source": [
    "As the final step, we write a function for executing and measuring the running time of the ThreeSum function at various input size. "
   ]
  },
  {
   "cell_type": "code",
   "execution_count": 9,
   "metadata": {
    "collapsed": true
   },
   "outputs": [],
   "source": [
    "def runtimeTest(maxN=512):\n",
    "    \"\"\"Measure runtime to solve three-sum problem of various size.\n",
    "    \n",
    "    Returns:\n",
    "        X  a list of problem size\n",
    "        Y  a list of time taken to solve three-sum \n",
    "    \"\"\"\n",
    "    X = []\n",
    "    Y = []\n",
    "    # start with 4 integers\n",
    "    n = 4\n",
    "    while (n <= maxN):\n",
    "        X.append(n)\n",
    "        Y.append(timeTrial(n))\n",
    "        n *= 2\n",
    "    return X, Y"
   ]
  },
  {
   "cell_type": "code",
   "execution_count": 10,
   "metadata": {
    "collapsed": false
   },
   "outputs": [
    {
     "name": "stdout",
     "output_type": "stream",
     "text": [
      "[4, 8, 16, 32]\n",
      "[8.98073760069451e-06, 2.5231596117336608e-05, 0.00015438315590010632, 0.0010588717285529015]\n"
     ]
    }
   ],
   "source": [
    "### TODO 6\n",
    "#\n",
    "# execute the function runtimeTest, with maxN=32\n",
    "\n",
    "X, Y = runtimeTest(32)\n",
    "\n",
    "# check your result, by press shift-Enter\n",
    "# you should see a list of integer (X; input size), and a list of real numbers (Y; elapsed time)\n",
    "\n",
    "print(X)\n",
    "print(Y)"
   ]
  },
  {
   "cell_type": "code",
   "execution_count": 11,
   "metadata": {
    "collapsed": false
   },
   "outputs": [
    {
     "name": "stdout",
     "output_type": "stream",
     "text": [
      "[4, 8, 16, 32, 64, 128, 256, 512, 1024]\n",
      "[9.40839177232533e-06, 3.977183794567907e-05, 0.00017106166858660288, 0.0024021334811319406, 0.016013082796414224, 0.12313660386137393, 0.5799135967511972, 4.184938618796767, 32.106058234523836]\n"
     ]
    }
   ],
   "source": [
    "### TODO 7\n",
    "# \n",
    "# execute the function runtimeTest, with maxN=1024\n",
    "\n",
    "X, Y = runtimeTest(1024)\n",
    "\n",
    "# before proceeding to the next step, make sure that \n",
    "## your X variable contains [4, 8, 16, 32, 64, 128, 256, 512, 1024]\n",
    "## your Y variable contains runnting time of each execution instance.\n",
    "\n",
    "print(X)\n",
    "print(Y)"
   ]
  },
  {
   "cell_type": "markdown",
   "metadata": {},
   "source": [
    "### Visualizing your Experimental Results\n",
    "\n",
    "Now that we have the data relating the running time of ThreeSum function to the input size, the most intuitive way to study how our simple algorithm performs is by plotting the running time of each execution against the input size.\n",
    "\n",
    "In Python, we can use the *matplotlib* library to programmatically plot our data. \n",
    "First we need to import the library:"
   ]
  },
  {
   "cell_type": "code",
   "execution_count": 12,
   "metadata": {
    "collapsed": true
   },
   "outputs": [],
   "source": [
    "# First, import the library\n",
    "import matplotlib.pyplot as plt\n",
    "# this line tells iPython to show the plot inside the Notebook\n",
    "%matplotlib inline\n"
   ]
  },
  {
   "cell_type": "markdown",
   "metadata": {},
   "source": [
    "To plot the data on a normal scale, execute the following instructions."
   ]
  },
  {
   "cell_type": "code",
   "execution_count": 13,
   "metadata": {
    "collapsed": false
   },
   "outputs": [
    {
     "data": {
      "image/png": "[encoded data removed]",
      "text/plain": [
       "<matplotlib.figure.Figure at 0x22390838630>"
      ]
     },
     "metadata": {},
     "output_type": "display_data"
    }
   ],
   "source": [
    "# Normal-scale plot\n",
    "\n",
    "plt.plot(X, Y, 'bo', X, Y, 'k')\n",
    "plt.grid(True)\n",
    "plt.title('Fig 1. Runtime of ThreeSum')\n",
    "plt.xlabel('Problem size [N]')\n",
    "plt.ylabel('Runtime T(N) (seconds)')\n",
    "plt.show()"
   ]
  },
  {
   "cell_type": "markdown",
   "metadata": {},
   "source": [
    "As can be seen from the above plot, reasoning about the relationship between running time and the problem size using the normal scale plotting is not so straightforward. To better see the relationship, it helps to try plotting your data on a log-log scale."
   ]
  },
  {
   "cell_type": "code",
   "execution_count": 14,
   "metadata": {
    "collapsed": false,
    "scrolled": true
   },
   "outputs": [
    {
     "data": {
      "image/png": "[encoded data removed]",
      "text/plain": [
       "<matplotlib.figure.Figure at 0x22390c07550>"
      ]
     },
     "metadata": {},
     "output_type": "display_data"
    }
   ],
   "source": [
    "# log-log scale plot\n",
    "\n",
    "plt.loglog(X, Y, 'bo', X, Y, 'k')\n",
    "plt.grid(True)\n",
    "plt.title('Fig 2. Runtime of ThreeSum [log-log plot]')\n",
    "plt.xlabel('lg N')\n",
    "plt.ylabel('lg T(N)')\n",
    "plt.show()"
   ]
  },
  {
   "cell_type": "markdown",
   "metadata": {},
   "source": [
    "## Questions 1\n",
    "\n",
    "If your work so far is correct, you should see a straight line on your log-log plot in Fig 2. \n",
    "\n",
    "**(a)** Estimate the slope of the straight line on your log-log plot in Fig 2."
   ]
  },
  {
   "cell_type": "code",
   "execution_count": 15,
   "metadata": {
    "collapsed": false
   },
   "outputs": [
    {
     "name": "stdout",
     "output_type": "stream",
     "text": [
      "2.7127992599335986\n"
     ]
    }
   ],
   "source": [
    "### TODO\n",
    "# write your answer for Question 1(a) in the cell below.\n",
    "\n",
    "import math\n",
    "\n",
    "m = math.log(max(Y)/min(Y))/math.log(max(X)/min(X))\n",
    "print(m)"
   ]
  },
  {
   "cell_type": "markdown",
   "metadata": {},
   "source": [
    "*Answer: ≈2.712*"
   ]
  },
  {
   "cell_type": "markdown",
   "metadata": {},
   "source": [
    "**(b)** What is the equation of the straight line on your log-log plot in Fig 2.  "
   ]
  },
  {
   "cell_type": "code",
   "execution_count": 16,
   "metadata": {
    "collapsed": false
   },
   "outputs": [
    {
     "name": "stdout",
     "output_type": "stream",
     "text": [
      "y = 2.712799x-10.851188\n"
     ]
    }
   ],
   "source": [
    "### TODO\n",
    "# write your answer for Question 1(b) below.\n",
    "\n",
    "b = min(Y)-m*min(X)\n",
    "print(\"y =\", \"%f\"%m + \"x\" + \"%+f\"%b)"
   ]
  },
  {
   "cell_type": "markdown",
   "metadata": {},
   "source": [
    "*Answer: y = 2.712x - 10.851*"
   ]
  },
  {
   "cell_type": "markdown",
   "metadata": {
    "collapsed": true
   },
   "source": [
    "**(c)** From your experimental results in Fig 1 and Fig 2., write the running time as a function of the input size."
   ]
  },
  {
   "cell_type": "code",
   "execution_count": 122,
   "metadata": {
    "collapsed": false
   },
   "outputs": [],
   "source": [
    "### TODO\n",
    "# write your answer for Question 1(c) below.\n",
    "\n",
    "def running_time(N):\n",
    "    T = N ** m * 10 ** (math.log(Y[X.index(N)],10) - m * math.log(X[X.index(N)],10))\n",
    "    return T"
   ]
  },
  {
   "cell_type": "markdown",
   "metadata": {},
   "source": [
    "*Answer: F(input_size) = (input_size^slope)(10^intercept_point)*"
   ]
  },
  {
   "cell_type": "markdown",
   "metadata": {},
   "source": [
    "**(d)** What is the order of growth of the running time of ThreeSum function ?"
   ]
  },
  {
   "cell_type": "code",
   "execution_count": 7,
   "metadata": {
    "collapsed": false
   },
   "outputs": [],
   "source": [
    "### TODO\n",
    "# write your answer for Question 1(d) below.\n",
    "\n",
    "def ThreeSum(A):\n",
    "    N = len(A)\n",
    "    cnt = 0\n",
    "    ### We have 3 for loops: ###\n",
    "    for i in range(N): # Executes N times\n",
    "        for j in range(i + 1, N): # Executes N-i times for each iteration of outer loop\n",
    "            for k in range(j + 1, N): # Executes N-j times for each iteration of outer loop\n",
    "                if A[i] + A[j] + A[k] == 0:\n",
    "                    cnt += 1\n",
    "                    \n",
    "    return cnt"
   ]
  },
  {
   "cell_type": "markdown",
   "metadata": {},
   "source": [
    "*Answer: Total time taken will be N*(N-i)*(N-j) = O(N^3)*\n"
   ]
  },
  {
   "cell_type": "markdown",
   "metadata": {},
   "source": [
    "## Programming Quiz 1\n",
    "\n",
    "### Computing **prefix averages** of a sequence of numbers.\n",
    "\n",
    "Given a sequence $S$ consisting of $n$ numbers, we want to compute a sequence $A$ such that $A[j]$ is the average of elements $S[0],...,S[j]$, for $j=0,...,n-1$, that is,\n",
    "\n",
    "$$\n",
    "A[j] = \\frac{\\sum_{i=0}^{j} S[i]}{j+1}\n",
    "$$\n",
    "\n",
    "Computing prefix averages are used frequently in economics and statistics. For example, given the year-by-year returns of a mutual fund, ordered from recent to past, an investor will typically want to see the fund's average annual returns for the most recent 3-year, 5-year, and so on.\n",
    "\n",
    "**(a)** Design and implement a linear time algorithm for computing prefix averages of a sequence of $n$ numbers."
   ]
  },
  {
   "cell_type": "code",
   "execution_count": 17,
   "metadata": {
    "collapsed": true
   },
   "outputs": [],
   "source": [
    "def prefix_average(S):\n",
    "    \"\"\"\n",
    "    Compute prefix averages.\n",
    "        \n",
    "        S    an input sequence of n numbers.\n",
    "    Returns:\n",
    "        A    a list such that, for all j, A[j] equals average of S[0],..,S[j].\n",
    "    \"\"\"\n",
    "    \n",
    "    A = []\n",
    "    B = 0\n",
    "    for j in range(len(S)):\n",
    "        B += S[j]\n",
    "        A[j] = B / (j+1) \n",
    "    return A"
   ]
  },
  {
   "cell_type": "markdown",
   "metadata": {},
   "source": [
    "**(b)** Write a function that measures running time of the **prefix_average()** function for the input size of 4, 8, 16, 32, 64, 128, 256, 512, 1024. (use function *uniformInts()* to generate the input sequence S.)"
   ]
  },
  {
   "cell_type": "code",
   "execution_count": 18,
   "metadata": {
    "collapsed": true
   },
   "outputs": [],
   "source": [
    "def exec_PrefixAverage(n):\n",
    "    \"\"\"Measure time to solve an instance Prefix Averages problem of size n.\n",
    "        n    the problem size (i.e. the number of integers)\n",
    "    \n",
    "    Returns:\n",
    "        elasped_time    the estimated execution time of Prefix Averages \n",
    "    \n",
    "    \"\"\"\n",
    "    watch3 = Stopwatch()\n",
    "    \n",
    "    S = uniformInts(n, -1000, 1000)\n",
    "    elapsed_time = 0\n",
    "    prefix_average(S)\n",
    "\n",
    "    elapsed_time = watch3.elapsedTime()\n",
    "    \n",
    "    return elapsed_time\n",
    "\n",
    "def test_PrefixAverages(maxN=1024):\n",
    "    \"\"\"Measure runtime to solve Prefix Average problem of various size.\n",
    "    \n",
    "    Returns:\n",
    "        X  a list of problem size\n",
    "        Y  a list of time taken to compute prefix averages\n",
    "    \"\"\"\n",
    "    X = []\n",
    "    Y = []\n",
    "    # start with 4 integers\n",
    "    n = 4\n",
    "\n",
    "    while (n <= maxN):\n",
    "        X.append(n)\n",
    "        Y.append(exec_PrefixAverage(n))\n",
    "        n *= 2\n",
    "    return X, Y"
   ]
  },
  {
   "cell_type": "markdown",
   "metadata": {},
   "source": [
    "**(c)** Plot the running time of your **prefix_average()** function against the input size."
   ]
  },
  {
   "cell_type": "code",
   "execution_count": 19,
   "metadata": {
    "collapsed": false
   },
   "outputs": [
    {
     "data": {
      "image/png": "[encoded data removed]",
      "text/plain": [
       "<matplotlib.figure.Figure at 0x22391200b00>"
      ]
     },
     "metadata": {},
     "output_type": "display_data"
    }
   ],
   "source": [
    "import matplotlib.pyplot as plt\n",
    "%matplotlib inline\n",
    "\n",
    "plt.loglog(X, Y, 'bo', X, Y, 'k') \n",
    "plt.grid(True) \n",
    "plt.title('Fig 3. Runtime of prefix average [log-log plot]') \n",
    "plt.xlabel('lg N') \n",
    "plt.ylabel('lg T(N)') \n",
    "plt.show()"
   ]
  },
  {
   "cell_type": "code",
   "execution_count": null,
   "metadata": {
    "collapsed": true
   },
   "outputs": [],
   "source": []
  }
 ],
 "metadata": {
  "anaconda-cloud": {},
  "kernelspec": {
   "display_name": "Python [dsalab]",
   "language": "python",
   "name": "Python [dsalab]"
  },
  "language_info": {
   "codemirror_mode": {
    "name": "ipython",
    "version": 3
   },
   "file_extension": ".py",
   "mimetype": "text/x-python",
   "name": "python",
   "nbconvert_exporter": "python",
   "pygments_lexer": "ipython3",
   "version": "3.5.2"
  }
 },
 "nbformat": 4,
 "nbformat_minor": 0
}
