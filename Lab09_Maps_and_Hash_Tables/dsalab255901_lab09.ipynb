{
 "cells": [
  {
   "cell_type": "markdown",
   "metadata": {},
   "source": [
    "13016213 Data Structures and Algorithms Laboratory\n",
    "\n",
    "**NOTE** click here to select this cell, press Esc-Enter to enter cell edit mode, press Shift-Enter to put the cell back to display mode.\n",
    "\n",
    "#### Name: Araya Siriadun\n",
    "\n",
    "#### Student ID: 58090046\n",
    "\n",
    "Laboratory 9: Maps and Hash Tables\n",
    "==="
   ]
  },
  {
   "cell_type": "markdown",
   "metadata": {},
   "source": [
    "## Overview\n",
    "A **map** is an abstraction that associates *unique* **keys** to **values**. Maps are also commonly known as **dictionary** or **associative arrays**. Figure 1 illustrates a map from the names of countries to their assoiciated currency units.\n",
    "\n",
    "<br />\n",
    "<center>\n",
    "<img src=\"figs/fig1.jpg\" />\n",
    "<br />\n",
    "<b>Figure 1.</b> A map from countries (the keys) to their currency units (the values). <br />Note that, the keys are assumed to be unique, but the values are not necessarily unique.\n",
    "</center>\n",
    "<br />\n",
    "\n",
    "Maps use an array-like syntax for indexing, such as `currency['China']` to access a value associated with a given key or `currency['China']='RMB'` to remap a given key to a new value. Unlike an array, indices for a map need not be consecutive nor even numeric. There are numerous applications of the map ADTs, including the following.\n",
    "\n",
    "* The domain-name-system (DNS) maps a host name, such as www.ic.kmitl.ac.th to an Internet Protocol (IP) address, such as 161.246.94.250.\n",
    "\n",
    "* A social media site typically uses a (non-numeric) username as a key that can be efficiently mapped to a particular user's associated information.\n",
    "\n",
    "* Python uses a dictionary to map an identifier (variable name), such as `'pi'`, to an associated object, such as `3.14159`.\n",
    "\n",
    "In this laboratory, we introduce the map ADT, its implementation variants, and applications. "
   ]
  },
  {
   "cell_type": "markdown",
   "metadata": {
    "collapsed": true
   },
   "source": [
    "<hr />\n",
    "\n",
    "## The Map ADT\n",
    "\n",
    "In consistent with Python's built-in dict class, a ***map M*** consists of five key behaviors as follows:\n",
    "\n",
    "* **`M[k]`**: Return the value `v` associated with key `k` in map `M`, if one exists; otherwise raise a `KeyError`.\n",
    "\n",
    "* **`M[k] = v`**: Associate value `v` with key `k` in map `M`, replacing the existing value if the map already contains an item with key equal to `k`.\n",
    "\n",
    "* **`del M[k]`**: Remove from map `M` the item with key equal to `k`; if `M` has no such item, then raise a `KeyError`.\n",
    "\n",
    "* **`len(M)`**: Return the number of items in map `M`. \n",
    "\n",
    "* **`iter(M)`** The default iteration for a map generates a sequence of keys in the map.\n"
   ]
  },
  {
   "cell_type": "markdown",
   "metadata": {},
   "source": [
    "### Question 1 [2 marks].\n",
    "Show the effect of a series of operations on an initially empty map storing items with *country name* as keys and *currency unit* as values. \n",
    "\n",
    "|No. |   Operation           |      Return Value      |           Map          |\n",
    "|:---|:----------------------|:----------------------:|:-----------------------|\n",
    "|ex. | `len(M)`              |          `0`           |           { }          |\n",
    "|ex. | `M['Thailand'] = Bath`|          `-`           | {'Thailand': 'Baht' }  |\n",
    "|1.  | `M['Germany'] = Euro` |         ...            |   ...      |\n",
    "|2.  | `M['France'] = Euro`  |         ...            |   ...   |\n",
    "|3.  | `M['Thailand']`       |         ...            |   ...   |\n",
    "|4.  | `M['China']`          |         ...            |   ...   |\n",
    "|5.  | `len(M)`              |         ...            |   ...   |\n",
    "|6.  | `del M['France']`     |         ...            |   ...   |\n",
    "|7.  | `del M['Sweden']`     |         ...            |   ...   |\n",
    "|8.  | `for k in M: print(k, M[k])`|         ...            |   ...   |\n"
   ]
  },
  {
   "cell_type": "markdown",
   "metadata": {},
   "source": [
    "#### Answer.\n",
    "\n",
    "|No. |   Operation           |      Return Value      |          Map           |\n",
    "|:---|:----------------------|:----------------------:|:-----------------------|\n",
    "|1.  | `M['Germany'] = Euro` |          `-`           | {'Thailand': 'Bath', 'Germany': 'Euro'} |\n",
    "|2.  | `M['France'] = Euro`  |          `-`           | {'Thailand': 'Bath', 'Germany': 'Euro', 'France': 'Euro'} |\n",
    "|3.  | `M['Thailand']`       |         'Bath'         | {'Thailand': 'Bath', 'Germany': 'Euro', 'France': 'Euro'} |\n",
    "|4.  | `M['China']`          |   KeyError: 'China'    | {'Thailand': 'Bath', 'Germany': 'Euro', 'France': 'Euro'} |\n",
    "|5.  | `len(M)`              |           3            | {'Thailand': 'Bath', 'Germany': 'Euro', 'France': 'Euro'} |\n",
    "|6.  | `del M['France']`     |          `-`           | {'Thailand': 'Bath', 'Germany': 'Euro'} |\n",
    "|7.  | `del M['Sweden']`     |   KeyError: 'Sweden'   | {'Thailand': 'Bath', 'Germany': 'Euro'} |\n",
    "|8.  | `for k in M: print(k, M[k])`|Thailand Bath <br> Germany Euro| {'Thailand': 'Bath', 'Germany': 'Euro'} |"
   ]
  },
  {
   "cell_type": "markdown",
   "metadata": {},
   "source": [
    "<hr />\n",
    "\n",
    "## Implementations of Map ADT\n",
    "To demonstrate a trade-off advantages and disadvantages of a variety of data structures, we will be studying four different implementations of the map ADT, in the remainder of this laboratory. Figure 2 provides an overview of those  concrete classes for the map ADT.\n",
    "\n",
    "<br />\n",
    "<center>\n",
    "<img src=\"figs/fig2.jpg\" />\n",
    "<br />\n",
    "<b>Figure 2.</b> Our class hierarchy of map types.\n",
    "</center>\n",
    "<br />\n",
    "\n"
   ]
  },
  {
   "cell_type": "markdown",
   "metadata": {},
   "source": [
    "### MapBase Class\n",
    "\n",
    "Our `MapBase` class extends the `MutableMapping` abstract class of the Python's `collections` module. The `MapBase` class inherits many useful methods provided by the `MutableMapping`. Here, we define a nonpublic nested `_Item` class, whose instances can be used to store a key-value pair. To provide support for equality tests and comparions based on the item's key, we also implement the `__eq__`, `__ne__`, and `__lt__` special methods. The definition of our `MapBase` class is provided in the following code snippet."
   ]
  },
  {
   "cell_type": "code",
   "execution_count": 1,
   "metadata": {
    "collapsed": true
   },
   "outputs": [],
   "source": [
    "from collections import MutableMapping\n",
    "\n",
    "class MapBase(MutableMapping):\n",
    "    \"\"\"an abstract base class extending the MutableMapping.\"\"\"\n",
    "    class _Item:\n",
    "        \"\"\"Lightweight composite to store key-value pairs as map items.\"\"\"\n",
    "        __slots = '_key', '_value'\n",
    "        \n",
    "        def __init__(self, k, v):\n",
    "            self._key = k\n",
    "            self._value = v\n",
    "            \n",
    "        def __eq__(self, other):\n",
    "            return self._key == other._key\n",
    "        \n",
    "        def __ne__(self, other):\n",
    "            return not (self == other)\n",
    "        \n",
    "        def __lt__(self, other):\n",
    "            return self._key < other._key\n",
    "\n"
   ]
  },
  {
   "cell_type": "markdown",
   "metadata": {},
   "source": [
    "### UnsortedTableMap Class\n",
    "\n",
    "An `UnsortedTableMap` class is the simplest concrete implementation of the map ADT. It relies on ***storing key-value pairs in arbitrary order within a Python list***. The `UnsortedTableMap` class extends our `MapBase` class by providing an initializer method and the five key methods of the map ADT."
   ]
  },
  {
   "cell_type": "code",
   "execution_count": 2,
   "metadata": {
    "collapsed": true
   },
   "outputs": [],
   "source": [
    "class UnsortedTableMap(MapBase):\n",
    "    \"\"\"Map implementation using an unsorted list.\"\"\"\n",
    "    \n",
    "    def __init__(self):\n",
    "        \"\"\"Create an empty map.\"\"\"\n",
    "        self._table = []\n",
    "        \n",
    "    def __getitem__(self, k):\n",
    "        \"\"\"Return value associated with key k.\n",
    "        \n",
    "        raise KeyError if not found.\n",
    "        \"\"\"\n",
    "        for item in self._table:\n",
    "            if k == item._key:\n",
    "                return item._value\n",
    "        raise KeyError('KeyError' + repr(k))\n",
    "    \n",
    "    def __setitem__(self, k, v):\n",
    "        \"\"\"Assign value v to key k, overwriting existing value if present.\"\"\"\n",
    "        for item in self._table:\n",
    "            if k == item._key:\n",
    "                item._value = v\n",
    "                return\n",
    "        # did not find match for key\n",
    "        self._table.append(self._Item(k, v))\n",
    "        \n",
    "    def __delitem__(self, k):\n",
    "        \"\"\"Remove item associated with key k. \n",
    "        \n",
    "        Raise KeyError if not found.\n",
    "        \"\"\"\n",
    "        for j in range(len(self._table)):\n",
    "            if k == self._table[j]._key:\n",
    "                self._table.pop(j)\n",
    "                return\n",
    "        raise KeyError('KeyError: ' + repr(k))\n",
    "        \n",
    "    def __len__(self):\n",
    "        \"\"\"Return number of items in the map.\"\"\"\n",
    "        return len(self._table)\n",
    "    \n",
    "    def __iter__(self):\n",
    "        \"\"\"Generate iteration of the map's keys.\"\"\"\n",
    "        for item in self._table:\n",
    "            yield item._key\n",
    "\n"
   ]
  },
  {
   "cell_type": "markdown",
   "metadata": {},
   "source": [
    "### Question 2 [2 marks].\n",
    "\n",
    "Use `UnsortedTableMap` class to check your answer for Question 1. "
   ]
  },
  {
   "cell_type": "code",
   "execution_count": 3,
   "metadata": {
    "collapsed": false
   },
   "outputs": [
    {
     "name": "stdout",
     "output_type": "stream",
     "text": [
      "                                               UnsortedTableMap                                              \n",
      "Operation                  |        Return Value        | Map\n",
      "len(M)                     |             0              | {}\n",
      "M['Thailand'] = 'Bath'     |            None            | {'Thailand: Bath'}\n",
      "M['Germany']  = 'Euro'     |            None            | {'Thailand: Bath', 'Germany: Euro'}\n",
      "M['France'] = 'Euro'       |            None            | {'Thailand: Bath', 'Germany: Euro', 'France: Euro'}\n",
      "M['Thailand']              |            Bath            | {'Thailand: Bath', 'Germany: Euro', 'France: Euro'}\n",
      "M['China']                 |      KeyError: 'China'     | {'Thailand: Bath', 'Germany: Euro', 'France: Euro'}\n",
      "len(M)                     |             3              | {'Thailand: Bath', 'Germany: Euro', 'France: Euro'}\n",
      "del M['France']            |            None            | {'Thailand: Bath', 'Germany: Euro'}\n",
      "del M['Sweden']            |      KeyError: 'Sweden'    | {'Thailand: Bath', 'Germany: Euro'}\n",
      "for k in M: print(k, M[k]) | Thailand Bath Germany Euro | {'Thailand: Bath', 'Germany: Euro'}\n",
      "\n"
     ]
    }
   ],
   "source": [
    "### TODO.Q2\n",
    "\n",
    "def Map(M):\n",
    "    d = []\n",
    "    for k in M: d += [\"{}: {}\".format(k,M[k])]\n",
    "    return '{'+str(d)[1:-1]+'}'\n",
    "def Testcase(M):\n",
    "    print(type(M).__name__.center(109))\n",
    "    print(\"Operation                  |        Return Value        | Map\")\n",
    "    print(\"len(M)                     |             {}              | {}\".format(len(M), Map(M)))\n",
    "    print(\"M['Thailand'] = 'Bath'     |            {}            | {}\".format(M.__setitem__('Thailand', 'Bath'), Map(M)))\n",
    "    print(\"M['Germany']  = 'Euro'     |            {}            | {}\".format(M.__setitem__('Germany', 'Euro'), Map(M)))\n",
    "    print(\"M['France'] = 'Euro'       |            {}            | {}\".format(M.__setitem__('France', 'Euro'), Map(M)))\n",
    "    print(\"M['Thailand']              |            {}            | {}\".format(M.__getitem__('Thailand'), Map(M)))\n",
    "    try: M['China']\n",
    "    except KeyError: print(\"M['China']                 |      {}     | {}\".format(\"KeyError: 'China'\", Map(M)))\n",
    "    print(\"len(M)                     |             {}              | {}\".format(len(M), Map(M)))\n",
    "    print(\"del M['France']            |            {}            | {}\".format(M.__delitem__('France'), Map(M)))\n",
    "    try: del M['Sweden']\n",
    "    except KeyError: print(\"del M['Sweden']            |      {}    | {}\".format(\"KeyError: 'Sweden'\", Map(M)))\n",
    "    print(\"for k in M: print(k, M[k]) |\", end = ' ')\n",
    "    for k in M: print(k, M[k], end = ' ')\n",
    "    print(\"| {}\\n\".format(Map(M)))\n",
    "Testcase(UnsortedTableMap())"
   ]
  },
  {
   "cell_type": "markdown",
   "metadata": {},
   "source": [
    "<hr />\n",
    "### Question 3 [2 marks].\n",
    "\n",
    "What are the worst-case runtime of the following methods of the `UnsortedTableMap` class.\n",
    "\n",
    "|  Methods |   Worst-case runtime    | \n",
    "|:---------|:------------------------|\n",
    "|  `__len__` | ....            |\n",
    "|  `__getitem__` | ....            |\n",
    "|  `__setitem__` | ....            |\n",
    "|  `__delitem__` | ....            |\n"
   ]
  },
  {
   "cell_type": "markdown",
   "metadata": {},
   "source": [
    "#### Answer.\n",
    "\n",
    "|  Methods |   Worst-case runtime    | \n",
    "|:---------|:------------------------|\n",
    "|  `__len__` |<center>O(1)</center>|\n",
    "|  `__getitem__` |<center>O(n)</center>|\n",
    "|  `__setitem__` |<center>O(n)</center>|\n",
    "|  `__delitem__` |<center>O(n)</center>|"
   ]
  },
  {
   "cell_type": "markdown",
   "metadata": {},
   "source": [
    "<hr />\n",
    "### SortedTableMap Class\n",
    "The second concrete implementation of our map ADT stores the map's items in an array-based sequence so that they are in increasing order of their keys, assuming the keys have a naturally defined order. As we will see, the advantage of keeping the map's items sorted in an array is that it allows us to use the ***binary search*** algorithm for a variety of fundamental operations of the map ADT.\n",
    "\n",
    "#### Binary Search\n",
    "A binary search algorithm is a search algorithm that finds the position of a target value within a sorted array.\n",
    "It compares the target value to the middle element of the array; if they are unequal, the half in which the target cannot lie is eliminated and the search continues on the remaining half until it is successful (reference: https://en.wikipedia.org/wiki/Binary_search_algorithm).\n"
   ]
  },
  {
   "cell_type": "code",
   "execution_count": 4,
   "metadata": {
    "collapsed": true
   },
   "outputs": [],
   "source": [
    "def binary_search(A, k, low, high):\n",
    "    \"\"\"Binary search algorithm.\n",
    "    \n",
    "    Return index of the item in A with key equal to k\n",
    "    \n",
    "    Return None if no such item qualifies\n",
    "    \n",
    "    \"\"\"\n",
    "    mid = (low+high)//2\n",
    "    if low > high:\n",
    "        return None\n",
    "    \n",
    "    if k == A[mid]:\n",
    "        return mid\n",
    "    elif k < A[mid]:\n",
    "        return binary_search(A, k, low, mid-1)\n",
    "    else:\n",
    "        return binary_search(A, k, mid+1, high)"
   ]
  },
  {
   "cell_type": "code",
   "execution_count": 5,
   "metadata": {
    "collapsed": false
   },
   "outputs": [
    {
     "name": "stdout",
     "output_type": "stream",
     "text": [
      "4\n",
      "116\n"
     ]
    }
   ],
   "source": [
    "def test_binary_search():\n",
    "    \"\"\"testing the binary search algorithm.\"\"\"\n",
    "    A = [101, 103, 105, 107, 116, 118, 133, 134]\n",
    "    \n",
    "    assert binary_search(A, 105, 0, len(A)-1) == 2\n",
    "    assert binary_search(A, 101, 0, len(A)-1) == 0\n",
    "    assert binary_search(A, 134, 0, len(A)-1) == len(A)-1\n",
    "    assert binary_search(A, 118, 0, len(A)-1) == 5\n",
    "    assert binary_search(A, -9, 0, len(A)-1) is None\n",
    "    assert binary_search(A, 0, 0, len(A)-1) is None\n",
    "    \n",
    "    print(binary_search(A, 116, 0, len(A)-1))\n",
    "    print(A[binary_search(A, 116, 0, len(A)-1)])\n",
    "    \n",
    "test_binary_search()"
   ]
  },
  {
   "cell_type": "markdown",
   "metadata": {},
   "source": [
    "<hr />\n",
    "#### Implementation of SortedTableMap Class\n",
    "\n",
    "A partial implementation of a class `SortedTableMap` is provided below. The key feature of this class is a `_find_index` utility function that uses a binary search algorithm to find the position of an item in the ordered list of the map. By convention, the `_find_index` method returns the index of the left-most item in the search interval ([low, high]) having key greater than or equal to `k`. Therefore, if the key is present, it will return the index of the item having that key. When the key is missing, the function returns the index of the item in the search interval that is just beyond where the key would have been located. The method returns index `high + 1` to indicate that no items of the interval had a key greater than `k`. \n",
    "\n",
    "The body of each of the `__getitem__, __setitem__, __delitem` methods begins with a call to `_find_index` to determine a candidate index at which a matching key might be found."
   ]
  },
  {
   "cell_type": "code",
   "execution_count": 4,
   "metadata": {
    "collapsed": false
   },
   "outputs": [],
   "source": [
    "class SortedTableMap(MapBase):\n",
    "    \"\"\"Map implementation using a sorted table.\"\"\"\n",
    "    \n",
    "    def _find_index(self, k, low, high):\n",
    "        \"\"\"Return index of the leftmost item with key greater than or equal to k.\n",
    "        \n",
    "        Return high + 1 if no such item qualifies.\n",
    "        \"\"\"\n",
    "        #\n",
    "        ### TODO.Q4\n",
    "        # implementation of _find_index method.\n",
    "        if low > high:\n",
    "            return high + 1\n",
    "        mid = (low + high) // 2\n",
    "        if k == self._table[mid]._key:\n",
    "            return mid\n",
    "        elif k < self._table[mid]._key:\n",
    "            return self._find_index(k, low, mid - 1)\n",
    "        return self._find_index(k, mid + 1, high)\n",
    "            \n",
    "    def __init__(self):\n",
    "        \"\"\"Create an empty map.\"\"\"\n",
    "        self._table = []\n",
    "        \n",
    "    def __len__(self):\n",
    "        \"\"\"Return the number of items in the map.\"\"\"\n",
    "        return len(self._table)\n",
    "    \n",
    "    def __getitem__(self, k):\n",
    "        \"\"\"Return value associated with key k\n",
    "        \n",
    "        Raise KeyError if not found.\n",
    "        \"\"\"        \n",
    "        j = self._find_index(k, 0, len(self._table)-1)\n",
    "        \n",
    "        if j == len(self._table) or self._table[j]._key != k:\n",
    "            raise KeyError('KeyError: ' + repr(k))\n",
    "        return self._table[j]._value\n",
    "    \n",
    "    def __setitem__(self, k, v):\n",
    "        \"\"\"Assign value v to key k, overwriting existing value if present.\"\"\"\n",
    "        \n",
    "        j = self._find_index(k, 0, len(self._table) - 1)\n",
    "        \n",
    "        if j < len(self._table) and self._table[j]._key == k:    # overwrite existing item            \n",
    "            self._table[j]._value = v\n",
    "            \n",
    "        else:     # append/insert new item\n",
    "            if len(self._table) <= j:                    \n",
    "                self._table.append(self._Item(k, v))\n",
    "            else:                                        \n",
    "                self._table.insert(j, self._Item(k, v))\n",
    "\n",
    "    def __delitem__(self, k):\n",
    "        \"\"\"Remove item associated with key k. \n",
    "        \n",
    "        Raise KeyError if not found.\n",
    "        \"\"\"\n",
    "        j = self._find_index(k, 0, len(self._table) - 1)\n",
    "        if j == len(self._table) or self._table[j]._key != k:\n",
    "            raise KeyError('KeyError:' + repr(k))\n",
    "        self._table.pop(j)\n",
    "        \n",
    "    def __iter__(self):\n",
    "        \"\"\"Generate iteration of the map's keys. Ordered from minimum to maximum.\"\"\"\n",
    "        for item in self._table:\n",
    "            yield item._key\n"
   ]
  },
  {
   "cell_type": "markdown",
   "metadata": {},
   "source": [
    "### Question 4. [2 marks]\n",
    "\n",
    "Complete the implementation of the `_find_index` method of the `SortedTableMap` class"
   ]
  },
  {
   "cell_type": "markdown",
   "metadata": {},
   "source": [
    "#### Answer.  See above\n"
   ]
  },
  {
   "cell_type": "markdown",
   "metadata": {},
   "source": [
    "<hr />\n",
    "\n",
    "### Question 5 [2 marks].\n",
    "\n",
    "Use `SortedTableMap` class to check your answer for Question 1. "
   ]
  },
  {
   "cell_type": "code",
   "execution_count": 5,
   "metadata": {
    "collapsed": false
   },
   "outputs": [
    {
     "name": "stdout",
     "output_type": "stream",
     "text": [
      "                                                SortedTableMap                                               \n",
      "Operation                  |        Return Value        | Map\n",
      "len(M)                     |             0              | {}\n",
      "M['Thailand'] = 'Bath'     |            None            | {'Thailand: Bath'}\n",
      "M['Germany']  = 'Euro'     |            None            | {'Germany: Euro', 'Thailand: Bath'}\n",
      "M['France'] = 'Euro'       |            None            | {'France: Euro', 'Germany: Euro', 'Thailand: Bath'}\n",
      "M['Thailand']              |            Bath            | {'France: Euro', 'Germany: Euro', 'Thailand: Bath'}\n",
      "M['China']                 |      KeyError: 'China'     | {'France: Euro', 'Germany: Euro', 'Thailand: Bath'}\n",
      "len(M)                     |             3              | {'France: Euro', 'Germany: Euro', 'Thailand: Bath'}\n",
      "del M['France']            |            None            | {'Germany: Euro', 'Thailand: Bath'}\n",
      "del M['Sweden']            |      KeyError: 'Sweden'    | {'Germany: Euro', 'Thailand: Bath'}\n",
      "for k in M: print(k, M[k]) | Germany Euro Thailand Bath | {'Germany: Euro', 'Thailand: Bath'}\n",
      "\n"
     ]
    }
   ],
   "source": [
    "### TODO.Q5\n",
    "\n",
    "Testcase(SortedTableMap())"
   ]
  },
  {
   "cell_type": "markdown",
   "metadata": {},
   "source": [
    "<hr />\n",
    "### Question 6 [2 marks].\n",
    "\n",
    "What are the runtime of the following methods of the `SortedTableMap` class.\n",
    "\n",
    "|  Methods |   Running Time    | \n",
    "|:---------|:------------------------|\n",
    "|  `__len__` | ....            |\n",
    "|  `__getitem__` | ....            |\n",
    "|  `__setitem__` | ....            |\n",
    "|  `__delitem__` | ....            |\n"
   ]
  },
  {
   "cell_type": "markdown",
   "metadata": {},
   "source": [
    "#### Answer.\n",
    "\n",
    "|  Methods |   Running Time    | \n",
    "|:---------|:------------------------|\n",
    "|  `__len__` |<center>O(1)</center>|\n",
    "|  `__getitem__` |<center>O(logn)</center>|\n",
    "|  `__setitem__` |<center>O(n)</center>|\n",
    "|  `__delitem__` |<center>O(n)</center>|"
   ]
  },
  {
   "cell_type": "markdown",
   "metadata": {},
   "source": [
    "<hr />\n",
    "## Hashing\n",
    "\n",
    "Hashing is the process of mapping a search key to a limited range of array indices with the goal of providing direct access to items in a collection. The items are stored in an array-based sequence called a ***hash table***. A ***hash function***, associated with the hash table, converts the search keys to specific entries in the hash table.\n",
    "\n",
    "For example, suppose we have the following set of items (denoted by integer keys):\n",
    "\n",
    "`765, 431, 96, 142, 579, 226, 903, 388`\n",
    "\n",
    "and a hash table `T`, containing `M = 13` elements. We can define a simple hash function $h(.)$ that maps the keys to entries in the hash table:\n",
    "\n",
    "`h(key) = key % M`\n",
    "\n",
    "To add keys to the hash table, first we apply the hash function to determine the entry in which the given key should be stored. \n",
    "\n",
    "```\n",
    "h(765) = 765 % 13 = 11\n",
    "h(431) = 431 % 13 = 2\n",
    "h(96)  = 96  % 13 = 5\n",
    "h(142) = 142 % 13 = 12\n",
    "h(579) = 579 % 13 = 7\n",
    "```\n",
    "\n",
    "Figure 3 illustrates the insertion of the first five keys into the hash tables.\n",
    "\n",
    "<br />\n",
    "<center>\n",
    "<img src=\"figs/fig3.png\" />\n",
    "<br />\n",
    "<b>Figure 3.</b> Adding the first five keys to the hash table.\n",
    "</center>\n",
    "<br />\n",
    "\n"
   ]
  },
  {
   "cell_type": "markdown",
   "metadata": {},
   "source": [
    "## Collision Resolution\n",
    "\n",
    "The first five keys were easily added to the table because the resulting indices were unique and the corresponding table entries were empty. Consider what happens when we attempt to add key `226` to the hash table.\n",
    "\n",
    "```\n",
    "h(226) = 226 % 13 = 5\n",
    "```\n",
    "\n",
    "The hash function maps this key to entry with index `5`, but that entry was already occupied by an item with key `96` as shown in Figure 4. Thee result is a ***collsion***, which occurs when two or more keys map to the same hash location. \n",
    "\n",
    "\n",
    "<br />\n",
    "<center>\n",
    "<img src=\"figs/fig4.png\" />\n",
    "<br />\n",
    "<b>Figure 4.</b> A collision occurs when adding key `226`.\n",
    "</center>\n",
    "<br />\n",
    "\n",
    "There are several methods for resolving the collision, such as separate chaining, linear probing, quadratic probing, and double hashing. Here, we will explore two methods for collision resolution: ***separate chaning*** and ***linear probing***.\n"
   ]
  },
  {
   "cell_type": "markdown",
   "metadata": {
    "collapsed": true
   },
   "source": [
    "### Separate Chaining\n",
    "\n",
    "In separate chaning, the hash table is constructed as an array of secondary containers (e.g., linked lists or maps). The keys are mapped to an individual index in the usual way, but instead of storing the key into the array elements, the keys are inserted into the secondary container referenced from the corresponding entry. This collision resolution rule is known as ***seprate chaning***. \n",
    "\n",
    "Figure 5 illustrates a hash table of size 13, storing 10 items with collision resolved by separate chaining.\n",
    "\n",
    "<br />\n",
    "<center>\n",
    "<img src=\"figs/fig5.jpg\" />\n",
    "<br />\n",
    "<b>Figure 5.</b> A hash table of size 13, storing 10 items with integer keys, with collisions resolved by separate chaining. The hash function is `h(k) = k mod 13`.\n",
    "</center>\n",
    "<br />\n",
    "\n",
    "### Linear Probing\n",
    "\n",
    "The major disadvantage of the separate chaining is that it requires the use of auxilliary data structure -- a map or a list -- to hold items with colliding keys. If memory space is limited, then we can use the alternative approach of always storing each item directly in a hash table entry. This approach is collectively referred to as ***open addressing*** schemes. Open addressing saves space because no auxilliary data structures are employed, but it requires a bit more complexity to deal with collisions. We will explore the simplest variant of open addressing, called ***linear probing***.\n",
    "\n",
    "In linear probing, if collision occurs then we examine the table entries in sequential order starting with the first entry immediately following the original hash location. As an example, for key value `226` in Figure 4, the linear probe finds slot `6` available, so the key can be stored at that location (see Figure 6).\n",
    "\n",
    "<br />\n",
    "<center>\n",
    "<img src=\"figs/fig6.png\" />\n",
    "<br />\n",
    "<b>Figure 6.</b> Resolving a collision for key `226` by linear probing.\n",
    "</center>\n",
    "<br />\n",
    "\n",
    "When key `903` is added, the hash function maps the key to index `6` (`h(903)= 903 % 13 = 6`), but we just added key `226` to this entry. To resolve the collision, we sequentially probe the hash table until we find an empty slot at entry indexed `8` (see Figure 7).\n",
    "\n",
    "\n",
    "<br />\n",
    "<center>\n",
    "<img src=\"figs/fig7.png\" />\n",
    "<br />\n",
    "<b>Figure 7.</b> Resolving a collision for key `903` by linear probing: (a) perform a linear probe; (b) the hash table after adding `903`.\n",
    "</center>\n",
    "<br />\n",
    "\n",
    "If the end of the hash table is reached during the linear probe, we have to wrap around to the first entry and continue until either an available slot is found or all entries have been examined. For example, if we add key `388` to the hash table, the key is mapped to slot `11` (`h(388) = 388 % 13 = 11`), which is occupied by key `765`. The linear probe, as illustrate in Figure 8, requires wrapping around to the beginning of the hash table.\n",
    "\n",
    "\n",
    "<br />\n",
    "<center>\n",
    "<img src=\"figs/fig8.png\" />\n",
    "<br />\n",
    "<b>Figure 8.</b> Adding key `388` to the hash table: (a) linear probe requires wrapping around to the beginning of the hash table; (b)  the hash table after adding `388`.\n",
    "</center>\n",
    "<br />"
   ]
  },
  {
   "cell_type": "markdown",
   "metadata": {
    "collapsed": true
   },
   "source": [
    "<hr />\n",
    "### Question 7 [4 mark].\n",
    "\n",
    "Suppose we have the following set of items (denoted by integer keys):\n",
    "\n",
    "`26 13 5 37 16 21 15 19 39 48`\n",
    "\n",
    "and a hash table `T`, containing `M = 11` elements. Assume that the hash function associated with `T` is defined as:\n",
    "\n",
    "`h(key) = key % M`\n",
    "\n",
    "**Programmatically** depict the hash table `T` after adding all items.\n",
    "\n",
    "(a) using linear probing <br />\n",
    "(b) using separate chaining\n"
   ]
  },
  {
   "cell_type": "code",
   "execution_count": 4,
   "metadata": {
    "collapsed": false
   },
   "outputs": [
    {
     "name": "stdout",
     "output_type": "stream",
     "text": [
      "(a) [39, 48, 13, None, 26, 5, 37, 16, 15, 19, 21]\n",
      "(b) [None, None, 13, None, [26, 37, 15, 48], [5, 16], 39, None, 19, None, 21]\n"
     ]
    }
   ],
   "source": [
    "### TODO.Q7\n",
    "\n",
    "def linear_probing(s, M = 1):\n",
    "    assert len(s) <= M, \"input keys > lenght of hash table\"\n",
    "    T = [None] * M\n",
    "    for key in s:\n",
    "        for i in range(M):\n",
    "            if not T[(key + i) % M]:\n",
    "                T[(key + i) % M] = key\n",
    "                break\n",
    "    return T\n",
    "def separate_chaining(s, M = 1):\n",
    "    T = [None] * M\n",
    "    for key in s:\n",
    "        if not T[key % M]:\n",
    "            T[key % M] = key\n",
    "        elif isinstance(T[key % M], int):\n",
    "            T[key % M] = [T[key % M], key]\n",
    "        elif isinstance(T[key % M], list):\n",
    "            T[key % M] += [key]\n",
    "    return T\n",
    "\n",
    "print(\"(a)\", linear_probing([26, 13, 5, 37, 16, 21, 15, 19, 39, 48], M = 11))\n",
    "print(\"(b)\", separate_chaining([26, 13, 5, 37, 16, 21, 15, 19, 39, 48], M = 11))"
   ]
  },
  {
   "cell_type": "markdown",
   "metadata": {},
   "source": [
    "<hr />\n",
    "\n",
    "## Implementation of Hash based Maps\n",
    "\n",
    "In this section, we present two implementation of a hash table: a separate chaining and a linear probing. \n",
    "\n",
    "As there are quite a number of common functionalities of these two hashing implementations, we extend the `MapBase` class to define a new `HashMapBase` class and add the common functionalities to the `HashMapBase` class. The `HashMapBase` class presumes abstract methods `_bucket_getitem(j, k), _bucket_setitem(j, k, v), _bucket_delitem(j, k), __iter__` which must be implemented by each concrete subclasses (`ChainHashMap` and `ProbeHashMap`).\n",
    "\n",
    "A full implementation of the `HashMapBase`, `ChainHashMap`, and `ProbeHashMap` is provided below."
   ]
  },
  {
   "cell_type": "code",
   "execution_count": 8,
   "metadata": {
    "collapsed": true
   },
   "outputs": [],
   "source": [
    "from random import randrange\n",
    "\n",
    "class HashMapBase(MapBase):\n",
    "    \"\"\"\n",
    "    Abstract base class for map using hash-table with \n",
    "    MAD (Multiply-Add-and-Divide) compression.\n",
    "    \"\"\"\n",
    "    \n",
    "    def __init__(self, cap=11, p=109345121):\n",
    "        \"\"\"Create an empty hash-table map.\"\"\"\n",
    "        self._table = cap * [None]\n",
    "        self._n = 0                            # number of entries in the map\n",
    "        self._prime = p                        # prime for MAD compression\n",
    "        self._scale = 1 + randrange(p - 1)     # scale from 1 to p-1 for MAD\n",
    "        self._shift = randrange(p)             # shift from 0 to p-1 for MAD\n",
    "        \n",
    "    def _hash_function(self, k):\n",
    "        \"\"\"Compute hash for key k.\n",
    "        \n",
    "        Our hash function consists of two parts: a hash code and a compression function.\n",
    "        \n",
    "        - Hash code function (Python built-in hash function):\n",
    "        The first part of the hash function maps keys k to well distributed integer values.\n",
    "        \n",
    "        - Compression function (MAD compression method):\n",
    "        The second part of the hash function maps integer values i = hash(k) to:\n",
    "            ((a * i + b) mod p) mod N\n",
    "            \n",
    "            where, \n",
    "            N is the size of the hash table.                       # self._table\n",
    "            p is a prime number larger than N                      # self._prime\n",
    "            a is an integer randomly chosen from integer 1..(p-1)  # self._scale\n",
    "            b is an integer randomly chosen from integer 0..(p-1)  # self._shift           \n",
    "            \n",
    "        \"\"\"\n",
    "        return (hash(k) * self._scale + self._shift) % self._prime % len(self._table)\n",
    "    \n",
    "    def __len__(self):\n",
    "        return self._n\n",
    "    \n",
    "    def __getitem__(self, k):\n",
    "        j = self._hash_function(k)\n",
    "        return self._bucket_getitem(j, k)      # may raise KeyError\n",
    "    \n",
    "    def __setitem__(self, k, v):        \n",
    "        j = self._hash_function(k)        \n",
    "        self._bucket_setitem(j, k, v)          # subroutine maintains self._n\n",
    "        if self._n > len(self._table) // 2:    # keep load factor <= 0.5\n",
    "            self._resize(2 * len(self._table) - 1)\n",
    "            \n",
    "    def __delitem__(self, k):\n",
    "        j = self._hash_function(k)\n",
    "        self._bucket_delitem(j, k)             # may raise KeyError\n",
    "        self._n -= 1\n",
    "        \n",
    "    def _resize(self, c):                      # resize bucket array to capacity c\n",
    "        old = list(self.items())\n",
    "        self._table = c * [None]\n",
    "        self._n = 0\n",
    "        for (k, v) in old:\n",
    "            self[k] = v\n",
    "\n",
    "\n",
    "class ChainHashMap(HashMapBase):\n",
    "    \"\"\"Hash map implemented with separate chaining for collision resolution.\"\"\"\n",
    "    \n",
    "    def _bucket_getitem(self, j, k):\n",
    "        bucket = self._table[j]\n",
    "        if bucket is None:\n",
    "            raise KeyError('KeyError: ' + repr(k)) \n",
    "        return bucket[k]\n",
    "    \n",
    "    def _bucket_setitem(self, j, k, v):\n",
    "        if self._table[j] is None:\n",
    "            self._table[j] = UnsortedTableMap()\n",
    "        oldsize = len(self._table[j])\n",
    "        self._table[j][k] = v\n",
    "        if len(self._table[j]) > oldsize:            # key was new to the table\n",
    "            self._n += 1                             # increase overall map size            \n",
    "            \n",
    "    def _bucket_delitem(self, j, k):\n",
    "        bucket = self._table[j]\n",
    "        if bucket is None:\n",
    "            raise KeyError('KeyError:' + repr(k))\n",
    "        del bucket[k]\n",
    "        \n",
    "    def __iter__(self):\n",
    "        for bucket in self._table:\n",
    "            if bucket is not None:\n",
    "                for key in bucket:\n",
    "                    yield key\n",
    "\n",
    "\n",
    "class ProbeHashMap(HashMapBase):\n",
    "    \"\"\"Hash map implemented with linear probing for collision resolution.\"\"\"\n",
    "    \n",
    "    _AVAIL = object()         # sentinel marks locations of previous deletions\n",
    "    \n",
    "    def _is_available(self, j):\n",
    "        \"\"\"Return True if index j is available in table.\"\"\"\n",
    "        return self._table[j] is None or self._table[j] is ProbeHashMap._AVAIL\n",
    "    \n",
    "    def _probe_index(self, hashed_k):\n",
    "        \"\"\"Return the next index to be probed.\"\"\"\n",
    "        return (hashed_k + 1) % len(self._table)\n",
    "    \n",
    "    def _find_slot(self, j, k):\n",
    "        \"\"\"Search for key k in bucket at index j.\n",
    "        \n",
    "        Return (success, index) tuple, described as follows:\n",
    "        if match was found, success is True and index denotes its location.\n",
    "        if no match found, success is False and index denotes first available slot.\n",
    "        \"\"\"\n",
    "        \n",
    "        firstAvail = None\n",
    "        while True:\n",
    "            if self._is_available(j):\n",
    "                if firstAvail is None:\n",
    "                    firstAvail = j\n",
    "                if self._table[j] is None:\n",
    "                    return (False, firstAvail)\n",
    "                \n",
    "            elif k == self._table[j]._key:\n",
    "                return (True, j)\n",
    "            \n",
    "            j = self._probe_index(j)\n",
    "            \n",
    "    def _bucket_getitem(self, j, k):\n",
    "        found, s = self._find_slot(j, k)\n",
    "        if not found:\n",
    "            raise KeyError('KeyError: ' + repr(k))\n",
    "        return self._table[s]._value\n",
    "    \n",
    "    def _bucket_setitem(self, j, k, v):\n",
    "        found, s = self._find_slot(j, k)\n",
    "        if not found:                            # insert new item\n",
    "            self._table[s] = self._Item(k, v)\n",
    "            self._n += 1\n",
    "        else:                                    # overwrite existing\n",
    "            self._table[s]._value = v\n",
    "            \n",
    "    def _bucket_delitem(self, j, k):\n",
    "        found, s = self._find_slot(j, k)\n",
    "        if not found:\n",
    "            raise KeyError('KeyError: ' + repr(k))\n",
    "        self._table[s] = ProbeHashMap._AVAIL\n",
    "        \n",
    "    def __iter__(self):\n",
    "        for j in range(len(self._table)):\n",
    "            if not self._is_available(j):\n",
    "                yield self._table[j]._key\n",
    "                \n",
    "\n"
   ]
  },
  {
   "cell_type": "markdown",
   "metadata": {},
   "source": [
    "<hr />\n",
    "### Question 8 [2 mark].\n",
    "Use `ChainHashMap` and `ProbeHashMap` class to check your answer for Question 1. "
   ]
  },
  {
   "cell_type": "code",
   "execution_count": 10,
   "metadata": {
    "collapsed": false
   },
   "outputs": [],
   "source": [
    "### TODO.Q8\n",
    "Testcase(ChainHashMap())\n",
    "Testcase(ProbeHashMap())"
   ]
  },
  {
   "cell_type": "markdown",
   "metadata": {},
   "source": [
    "<hr />\n",
    "### Question 9 [2 marks].\n",
    "\n",
    "What are the runtime of the following methods of the `ChainHashMap`  and the `ProbeHashMap` classes.\n",
    "\n",
    "|  Methods |   Expected Running Time of <br />`ChainHashMap` and `ProbeHashMap` | Worst case Running Time of <br />`ChainHashMap` and `ProbeHashMap` |\n",
    "|:---------|:----------------------------------------------------|\n",
    "|  `__len__` |   ...       |   ...       |\n",
    "|  `__getitem__` | ...     |   ...       |\n",
    "|  `__setitem__` | ...     |   ...       |\n",
    "|  `__delitem__` | ...     |   ...       |"
   ]
  },
  {
   "cell_type": "markdown",
   "metadata": {},
   "source": [
    "#### Answer.\n",
    "\n",
    "|  Methods |   Expected Running Time of <br />`ChainHashMap` and `ProbeHashMap` | Worst case Running Time of <br />`ChainHashMap` and `ProbeHashMap` |\n",
    "|:---------|:----------------------------------------------------|\n",
    "|  `__len__` |<center>O(1)</center>|<center>O(1)</center>|\n",
    "|  `__getitem__` |<center>O(1)</center>|<center>O(n)</center>|\n",
    "|  `__setitem__` |<center>O(1)</center>|<center>O(n)</center>|\n",
    "|  `__delitem__` |<center>O(1)</center>|<center>O(n)</center>|"
   ]
  },
  {
   "cell_type": "markdown",
   "metadata": {},
   "source": [
    "<hr />\n",
    "## Programming Quiz [6 marks]"
   ]
  },
  {
   "cell_type": "markdown",
   "metadata": {},
   "source": [
    "Design and implement a simple English-to-Thai dictionary program that translates an English word into Thai. \n",
    "\n",
    "\n",
    "* An English-to-Thai dictionary data is provided in a plain-text file named `eng2thai/en2th.dict.txt`. The file is encoded in a UTF-8 format. Each row in the dictionary data file corresponds to a tab-delimited English-to-Thai translation. For example, the first five lines of the data file read\n",
    "\n",
    "```\n",
    "safe-conduct   เอกสารอนุญาตให้ผ่านได้โดยเฉพาะช่วงสงคราม\n",
    "untruthful\t ที่พูดโกหก\n",
    "lacrimal\t   เกี่ยวกับต่อมน้ำตา\n",
    "mineralogical  เกี่ยวกับการศึกษาแร่\n",
    "towage\t     การพ่วงหรือลาก\n",
    "```\n",
    "\n",
    "* The number of entries in the dictionary data file is a bit large (`54492` entries). Make sure that your main data structure can handle the dictionary data of this size.\n",
    "\n",
    "* Here is an sample run of the program:\n",
    "\n",
    "<br />\n",
    "<center>\n",
    "<img src=\"figs/fig9.jpg\" style=\"border: solid black 1px;\"/>\n",
    "<br />\n",
    "<b>Figure 9.</b> A sample run of the English-to-Thai dictionary program.\n",
    "</center>\n",
    "<br />"
   ]
  },
  {
   "cell_type": "code",
   "execution_count": null,
   "metadata": {
    "collapsed": false
   },
   "outputs": [
    {
     "name": "stdout",
     "output_type": "stream",
     "text": [
      "Loaded dictionary from eng2thai/en2th.dict.txt [# of entries = 54492]\n",
      "\n",
      "\n",
      "Please input an English word: jazzy\n",
      "\n",
      "\tjazzy => น่าดึงดูดใจ\n",
      "\n",
      "Please input an English word: english\n",
      "\tNo entries found.\n",
      "\n",
      "Please input an English word: thailand\n",
      "\tNo entries found.\n",
      "\n",
      "Please input an English word: pick\n",
      "\tNo entries found.\n",
      "\n",
      "Please input an English word: plate\n",
      "\n",
      "\tplate => ชุบ\n",
      "\n",
      "Please input an English word: serene\n",
      "\n",
      "\tserene => ปลอดโปร่ง\n",
      "\n",
      "Please input an English word: clean\n",
      "\n",
      "\tclean => ไม่มีสิ่งผิดกฎหมาย เช่น ยาเสพย์ติดหรืออาวุธ\n",
      "\n"
     ]
    }
   ],
   "source": [
    "### a simple English-to-Thai dictionary program\n",
    "\n",
    "if __name__ == \"__main__\":\n",
    "    M = ProbeHashMap()\n",
    "    dictionary = \"eng2thai/en2th.dict.txt\"\n",
    "    with open(dictionary, encoding = \"utf8\") as file:\n",
    "        for row in file:\n",
    "            M[row.split('\\t')[0]] = row.split('\\t')[1][:-1]\n",
    "        print(\"Loaded dictionary from {} [# of entries = {}]\\n\\n\".format(file.name, len(M)))\n",
    "    while True:\n",
    "        word = input(\"Please input an English word: \")\n",
    "        if word == '/': break\n",
    "        try: print(\"\\n\\t{} => {}\\n\".format(word, M[word]))\n",
    "        except KeyError: print(\"\\tNo entries found.\\n\")"
   ]
  }
 ],
 "metadata": {
  "anaconda-cloud": {},
  "kernelspec": {
   "display_name": "Python [dsalab]",
   "language": "python",
   "name": "Python [dsalab]"
  },
  "language_info": {
   "codemirror_mode": {
    "name": "ipython",
    "version": 3
   },
   "file_extension": ".py",
   "mimetype": "text/x-python",
   "name": "python",
   "nbconvert_exporter": "python",
   "pygments_lexer": "ipython3",
   "version": "3.5.2"
  }
 },
 "nbformat": 4,
 "nbformat_minor": 0
}
